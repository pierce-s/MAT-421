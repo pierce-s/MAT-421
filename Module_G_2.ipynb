{
  "nbformat": 4,
  "nbformat_minor": 0,
  "metadata": {
    "colab": {
      "provenance": [],
      "authorship_tag": "ABX9TyNKBO3DOnSTq9WQNOa2Wcub",
      "include_colab_link": true
    },
    "kernelspec": {
      "name": "python3",
      "display_name": "Python 3"
    },
    "language_info": {
      "name": "python"
    }
  },
  "cells": [
    {
      "cell_type": "markdown",
      "metadata": {
        "id": "view-in-github",
        "colab_type": "text"
      },
      "source": [
        "<a href=\"https://colab.research.google.com/github/pierce-s/MAT-421/blob/main/Module_G_2.ipynb\" target=\"_parent\"><img src=\"https://colab.research.google.com/assets/colab-badge.svg\" alt=\"Open In Colab\"/></a>"
      ]
    },
    {
      "cell_type": "markdown",
      "source": [
        "Student: Pierce Sarmiento\n",
        "\n",
        "---"
      ],
      "metadata": {
        "id": "3XxRoTpratpc"
      }
    },
    {
      "cell_type": "markdown",
      "source": [
        "#**Module G-2** \n",
        "**21.4** Simpson's Rule\n",
        "\n",
        "**21.5** Integrals in Python\n",
        "\n",
        "\n",
        "---\n"
      ],
      "metadata": {
        "id": "8n_CHQ3oX3Vj"
      }
    },
    {
      "cell_type": "markdown",
      "source": [
        "**Section 21.4: Simpson's Rule**"
      ],
      "metadata": {
        "id": "AxlT-ej5Zfqx"
      }
    },
    {
      "cell_type": "markdown",
      "source": [
        "*Summary:*\n",
        "\n",
        "Simpson's Rule is a method for approximating the area under a curve using polynomial approximations. It uses the midpoints of each subinterval to fit polynomials to approximate the area.\n",
        "\n",
        "\n",
        "---\n",
        "\n",
        "\n",
        "*Implementation:*\n",
        "\n",
        "Let's use f(x) = x^3 from the previous section, as well as the subintervals we created. We will use Simpson's Rule to approximate the area under the curve.\n",
        "\n",
        "First we define a lagrange function\n",
        "\n",
        "\n",
        "\n"
      ],
      "metadata": {
        "id": "s-nEwdnnf-Yi"
      }
    },
    {
      "cell_type": "code",
      "source": [
        "def lagrange(x, x_vals, y_vals):\n",
        "    n = len(x_vals)\n",
        "    y = 0\n",
        "    for i in range(n):\n",
        "        prod = y_vals[i] # initialize product to the ith function value\n",
        "        for j in range(n):\n",
        "            if i != j:\n",
        "                # multiply the product by the Lagrange basis polynomial for the jth point\n",
        "                prod *= (x - x_vals[j]) / (x_vals[i] - x_vals[j])\n",
        "        y += prod\n",
        "    return y"
      ],
      "metadata": {
        "id": "zyvu7TAcUZwu"
      },
      "execution_count": 11,
      "outputs": []
    },
    {
      "cell_type": "markdown",
      "source": [
        "Now we can use this function between each subinterval we construct to compute the integral."
      ],
      "metadata": {
        "id": "QngtaYIOUdmP"
      }
    },
    {
      "cell_type": "code",
      "source": [
        "def f(x):\n",
        "    return x**3\n",
        "\n",
        "a = 2 \n",
        "b = 5\n",
        "n = 12  # number of discretizations\n",
        "h = (b - a) / n\n",
        "\n",
        "# Calculate subintervals\n",
        "x_vals = [a + i * h for i in range(n+1)]\n",
        "y_vals = [f(x) for x in x_vals]\n",
        "\n",
        "# Use Lagrange polynomials to approximate the integral\n",
        "integral = 0\n",
        "\n",
        "# Iterate through each subinterval\n",
        "for i in range(n):\n",
        "    x1, x2 = x_vals[i], x_vals[i+1]\n",
        "    integral += (x2 - x1) * (lagrange(x1, x_vals, y_vals) + lagrange(x2, x_vals, y_vals)) / 2\n",
        "\n",
        "print(\"Integral:\", integral)\n",
        "\n",
        "\n"
      ],
      "metadata": {
        "colab": {
          "base_uri": "https://localhost:8080/"
        },
        "id": "rzMcNZhpRzpm",
        "outputId": "04a29a32-21fe-468a-ffbd-9288b086f140"
      },
      "execution_count": 10,
      "outputs": [
        {
          "output_type": "stream",
          "name": "stdout",
          "text": [
            "Integral: 152.578125\n"
          ]
        }
      ]
    },
    {
      "cell_type": "markdown",
      "source": [
        "We have a decent approximation, considering we used only 12 discretizations and the exact solution is 152.25."
      ],
      "metadata": {
        "id": "dyn1b32bUmYC"
      }
    },
    {
      "cell_type": "markdown",
      "source": [
        "---\n",
        "**Section 21.5 Integrals in Python**"
      ],
      "metadata": {
        "id": "lesyamTvRSD6"
      }
    },
    {
      "cell_type": "markdown",
      "source": [
        "*Summary:*\n",
        "\n",
        "There are many Python libraries that can be used to more conveniently calculate integrals. `scipy` has many such tools.\n",
        "\n",
        "\n",
        "---\n",
        "\n",
        "\n",
        "*Implementation:*\n"
      ],
      "metadata": {
        "id": "qWjcBahtNDgl"
      }
    },
    {
      "cell_type": "markdown",
      "source": [
        "Using `quad` from `scipy`:"
      ],
      "metadata": {
        "id": "0g6DQkEdV5Up"
      }
    },
    {
      "cell_type": "code",
      "source": [
        "from scipy.integrate import quad\n",
        "\n",
        "def f(x):\n",
        "    return x**3\n",
        "\n",
        "result, error = quad(f, 2, 5)\n",
        "print(\"Integral:\", result)\n"
      ],
      "metadata": {
        "colab": {
          "base_uri": "https://localhost:8080/"
        },
        "id": "iW_IAcwERETZ",
        "outputId": "353dcde5-8aac-464c-8374-5272d55c44cc"
      },
      "execution_count": 12,
      "outputs": [
        {
          "output_type": "stream",
          "name": "stdout",
          "text": [
            "Integral: 152.25000000000006\n"
          ]
        }
      ]
    },
    {
      "cell_type": "markdown",
      "source": [
        "Using `trapz` from `scipy`:"
      ],
      "metadata": {
        "id": "UF1ex3MTV_6I"
      }
    },
    {
      "cell_type": "code",
      "source": [
        "from scipy.integrate import trapz\n",
        "\n",
        "def f(x):\n",
        "    return x**3\n",
        "\n",
        "x_vals = np.linspace(2, 5, 13)\n",
        "y_vals = f(x_vals)\n",
        "\n",
        "result = trapz(y_vals, x_vals)\n",
        "print(\"Integral:\", result)"
      ],
      "metadata": {
        "colab": {
          "base_uri": "https://localhost:8080/"
        },
        "id": "f3KkJflyVvU4",
        "outputId": "ea6a4dd5-b05a-4a42-ce52-70280fc4c5cc"
      },
      "execution_count": 14,
      "outputs": [
        {
          "output_type": "stream",
          "name": "stdout",
          "text": [
            "Integral: 152.578125\n"
          ]
        }
      ]
    },
    {
      "cell_type": "markdown",
      "source": [
        "Using `trapz` from `numpy`:"
      ],
      "metadata": {
        "id": "p-ClsUGgWErK"
      }
    },
    {
      "cell_type": "code",
      "source": [
        "import numpy as np\n",
        "\n",
        "def f(x):\n",
        "    return x**3\n",
        "\n",
        "x_vals = np.linspace(2, 5, 13)\n",
        "y_vals = f(x_vals)\n",
        "\n",
        "result = np.trapz(y_vals, x_vals)\n",
        "print(\"Integral:\", result)\n"
      ],
      "metadata": {
        "colab": {
          "base_uri": "https://localhost:8080/"
        },
        "id": "jJMkGTH7V3u-",
        "outputId": "7e687838-1c54-4232-e76c-3e01b8af5794"
      },
      "execution_count": 15,
      "outputs": [
        {
          "output_type": "stream",
          "name": "stdout",
          "text": [
            "Integral: 152.578125\n"
          ]
        }
      ]
    },
    {
      "cell_type": "markdown",
      "source": [
        "We can specify the number of subintervals used to compute the interval which makes these libraries flexible for this use-case."
      ],
      "metadata": {
        "id": "RQsuiOxtUTDn"
      }
    }
  ]
}