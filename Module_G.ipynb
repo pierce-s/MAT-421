{
  "nbformat": 4,
  "nbformat_minor": 0,
  "metadata": {
    "colab": {
      "provenance": [],
      "authorship_tag": "ABX9TyN9aE5XjsfNY/hzsoXEKO/R",
      "include_colab_link": true
    },
    "kernelspec": {
      "name": "python3",
      "display_name": "Python 3"
    },
    "language_info": {
      "name": "python"
    }
  },
  "cells": [
    {
      "cell_type": "markdown",
      "metadata": {
        "id": "view-in-github",
        "colab_type": "text"
      },
      "source": [
        "<a href=\"https://colab.research.google.com/github/pierce-s/MAT-421/blob/main/Module_G.ipynb\" target=\"_parent\"><img src=\"https://colab.research.google.com/assets/colab-badge.svg\" alt=\"Open In Colab\"/></a>"
      ]
    },
    {
      "cell_type": "markdown",
      "source": [
        "Student: Pierce Sarmiento\n",
        "\n",
        "---"
      ],
      "metadata": {
        "id": "3XxRoTpratpc"
      }
    },
    {
      "cell_type": "markdown",
      "source": [
        "#**Module G** \n",
        "**21.1** Numerical Integration\n",
        "\n",
        "**21.2** Riemann's Integral\n",
        "\n",
        "**21.3** Trapezoid Rule\n",
        "\n",
        "\n",
        "---\n"
      ],
      "metadata": {
        "id": "8n_CHQ3oX3Vj"
      }
    },
    {
      "cell_type": "markdown",
      "source": [
        "**Section 21.1: Numerical Integration**"
      ],
      "metadata": {
        "id": "AxlT-ej5Zfqx"
      }
    },
    {
      "cell_type": "markdown",
      "source": [
        "*Summary:*\n",
        "\n",
        "For a given function, we can approximate its integral over an interval using numerical integration methods. We do this by discretizing an interval into a numerical grid. We can then approximate the area under the curve using the subintervals we have created.\n",
        "\n",
        "\n",
        "---\n",
        "\n",
        "\n",
        "*Implementation:*\n",
        "\n",
        "We can illustrate the setup for this process by using the function $f(x) = x^3$. First, we need to define the function and the interval we are interested in.\n",
        "\n",
        "\n",
        "\n"
      ],
      "metadata": {
        "id": "s-nEwdnnf-Yi"
      }
    },
    {
      "cell_type": "code",
      "source": [
        "# Define the function to be integrated\n",
        "def f(x):\n",
        "    return x**3\n",
        "\n",
        "# Define the interval [a, b] and the number of subintervals n\n",
        "a = 2\n",
        "b = 5\n",
        "n = 12"
      ],
      "metadata": {
        "id": "IGho0BXwJJHY"
      },
      "execution_count": 44,
      "outputs": []
    },
    {
      "cell_type": "markdown",
      "source": [
        "Then, we created a discretized array of numbers in the interval using `numpy`. We use this to create our plot of $f(x)$."
      ],
      "metadata": {
        "id": "jMtQpaM_Lay8"
      }
    },
    {
      "cell_type": "code",
      "source": [
        "import numpy as np\n",
        "import matplotlib.pyplot as plt\n",
        "\n",
        "# Plot the function\n",
        "x = np.linspace(a, b, n+1)\n",
        "plt.plot(x, f(x), 'b-')"
      ],
      "metadata": {
        "colab": {
          "base_uri": "https://localhost:8080/",
          "height": 282
        },
        "id": "IVO1GSOiK48h",
        "outputId": "beeef83c-d438-4f7c-e2a6-9ec34cc2f7e9"
      },
      "execution_count": 45,
      "outputs": [
        {
          "output_type": "execute_result",
          "data": {
            "text/plain": [
              "[<matplotlib.lines.Line2D at 0x7f6d68134a60>]"
            ]
          },
          "metadata": {},
          "execution_count": 45
        },
        {
          "output_type": "display_data",
          "data": {
            "text/plain": [
              "<Figure size 432x288 with 1 Axes>"
            ],
            "image/png": "[encoded data removed]"
          },
          "metadata": {
            "needs_background": "light"
          }
        }
      ]
    },
    {
      "cell_type": "markdown",
      "source": [
        "Finally, we can visualize the subintervals we have created:"
      ],
      "metadata": {
        "id": "PbtEriw1LKSP"
      }
    },
    {
      "cell_type": "code",
      "source": [
        "# Plot the subintervals\n",
        "for i in range(n):\n",
        "    plt.fill_between([x[i], x[i+1]], [0, 0], [f(x[i]), f(x[i+1])], alpha=0.2)\n",
        "\n",
        "# Plot f(x) again\n",
        "xi = np.linspace(0, b, 100)\n",
        "fi = f(xi)\n",
        "plt.plot(xi, fi, 'b-')\n",
        "\n",
        "# Add labels and title to the plot\n",
        "plt.xlabel('x')\n",
        "plt.ylabel('y')\n",
        "plt.title('Visualizing n subintervals of f(x) over [a, b]')\n",
        "\n",
        "# Show the plot\n",
        "plt.show()"
      ],
      "metadata": {
        "colab": {
          "base_uri": "https://localhost:8080/",
          "height": 295
        },
        "id": "kYUFlXzlLtyX",
        "outputId": "bd1e1eb6-c577-486a-83c6-cb17045e9a2a"
      },
      "execution_count": 46,
      "outputs": [
        {
          "output_type": "display_data",
          "data": {
            "text/plain": [
              "<Figure size 432x288 with 1 Axes>"
            ],
            "image/png": "[encoded data removed]"
          },
          "metadata": {
            "needs_background": "light"
          }
        }
      ]
    },
    {
      "cell_type": "markdown",
      "source": [
        "The graph shows 12 subintervals between 2 and 5."
      ],
      "metadata": {
        "id": "k7GILEUEMrl3"
      }
    },
    {
      "cell_type": "markdown",
      "source": [
        "---\n",
        "\n",
        "**Section 21.2: Riemanns Integral**\n",
        "\n",
        "\n",
        "\n"
      ],
      "metadata": {
        "id": "YEEYhEgUNAJX"
      }
    },
    {
      "cell_type": "markdown",
      "source": [
        "*Summary:*\n",
        "\n",
        "Using the subintervals that we created, we can sum the area of rectangles in each subinterval. As we include more subintervals our approximation will approach the area under the curve.\n",
        "\n",
        "\n",
        "---\n",
        "\n",
        "\n",
        "*Implementation:*\n",
        "\n",
        "Let's use $f(x) = x^3$ from the previous section, as well as the subintervals we created. We will use leftpoint Riemann sums to approximate the area under the curve.\n",
        "\n",
        "\n"
      ],
      "metadata": {
        "id": "c4RhURL3RbD4"
      }
    },
    {
      "cell_type": "code",
      "source": [
        "# Define the width of each subinterval\n",
        "dx = (b - a) / n\n",
        "\n",
        "# Compute the left endpoint of each subinterval\n",
        "left_points = np.linspace(a, b-dx, n)\n",
        "\n",
        "# Compute the Riemann sum using the left endpoint method\n",
        "riemann_sum = np.sum(f(left_points) * dx)\n",
        "\n",
        "# Colors to cycle through\n",
        "colors = ['r', 'g', 'b', 'y', 'm', 'c']\n",
        "for i in range(n):\n",
        "    rect_x = [x[i], x[i], x[i+1], x[i+1], x[i]]\n",
        "    rect_y = [0, f(x[i]), f(x[i]), 0, 0]\n",
        "    plt.fill(rect_x, rect_y, colors[i % len(colors)], alpha=0.2)\n",
        "\n",
        "# Show the plot\n",
        "plt.plot(xi, fi, 'b-')\n",
        "plt.show()\n",
        "\n",
        "# Calculate riemann sum\n",
        "print(f'Riemann sum = {riemann_sum:.2f}')"
      ],
      "metadata": {
        "colab": {
          "base_uri": "https://localhost:8080/",
          "height": 282
        },
        "id": "uLG38bwzMyDL",
        "outputId": "d92d6605-11ed-46fd-a367-8cc420a0cc4b"
      },
      "execution_count": 47,
      "outputs": [
        {
          "output_type": "display_data",
          "data": {
            "text/plain": [
              "<Figure size 432x288 with 1 Axes>"
            ],
            "image/png": "[encoded data removed]"
          },
          "metadata": {
            "needs_background": "light"
          }
        },
        {
          "output_type": "stream",
          "name": "stdout",
          "text": [
            "Riemann sum = 137.95\n"
          ]
        }
      ]
    },
    {
      "cell_type": "markdown",
      "source": [
        "Our sum comes out to `137.95`. We can see visually that our sum is lower than the actual area under the curve, as each rectangle has part of the area missing from above it. Let's compare it to our analytical solution:"
      ],
      "metadata": {
        "id": "nhfNKmekP042"
      }
    },
    {
      "cell_type": "code",
      "source": [
        "def F(x):\n",
        "  return (x**4) / 4\n",
        "\n",
        "exact = F(b) - F(a)\n",
        "\n",
        "print(f\"Exact: {exact}\")\n",
        "print(f\"Riemann aprroximation: {riemann_sum:.2f}\")\n",
        "\n",
        "error = exact - riemann_sum\n",
        "\n",
        "print (f\"Error: {error}\")"
      ],
      "metadata": {
        "colab": {
          "base_uri": "https://localhost:8080/"
        },
        "id": "fgqm_LWwOWaP",
        "outputId": "0f6b14df-3948-46b2-ac4a-a5becae2745c"
      },
      "execution_count": 48,
      "outputs": [
        {
          "output_type": "stream",
          "name": "stdout",
          "text": [
            "Exact: 152.25\n",
            "Riemann aprroximation: 137.95\n",
            "Error: 14.296875\n"
          ]
        }
      ]
    },
    {
      "cell_type": "markdown",
      "source": [
        "If we add many more subintervals then our approximation should approach the exact solution."
      ],
      "metadata": {
        "id": "8A2lWyzlQ3V-"
      }
    },
    {
      "cell_type": "code",
      "source": [
        "# Define the function to be integrated\n",
        "def f(x):\n",
        "    return x**3\n",
        "\n",
        "# Define the interval [a, b] and the number of subintervals n\n",
        "a = 2\n",
        "b = 5\n",
        "n = 10000\n",
        "\n",
        "# Define the width of each subinterval\n",
        "dx = (b - a) / n\n",
        "\n",
        "# Compute the left endpoint of each subinterval\n",
        "left_points = np.linspace(a, b-dx, n)\n",
        "\n",
        "# Compute the Riemann sum using the left endpoint method\n",
        "riemann_sum = np.sum(f(left_points) * dx)\n",
        "\n",
        "exact = F(b) - F(a)\n",
        "\n",
        "print(f\"Exact: {exact}\")\n",
        "print(f\"Riemann aprroximation: {riemann_sum:.2f}\")\n",
        "\n",
        "error = exact - riemann_sum\n",
        "\n",
        "print (f\"Error: {error}\")"
      ],
      "metadata": {
        "colab": {
          "base_uri": "https://localhost:8080/"
        },
        "id": "9F92bSrUPJ0X",
        "outputId": "e349537e-13f3-4874-c059-d52a6d18dc68"
      },
      "execution_count": 50,
      "outputs": [
        {
          "output_type": "stream",
          "name": "stdout",
          "text": [
            "Exact: 152.25\n",
            "Riemann aprroximation: 152.23\n",
            "Error: 0.017549527500023032\n"
          ]
        }
      ]
    },
    {
      "cell_type": "markdown",
      "source": [
        "Now the difference between the approximation and the exact solution is much smaller."
      ],
      "metadata": {
        "id": "VOuxUiJCRAf_"
      }
    },
    {
      "cell_type": "markdown",
      "source": [
        "---\n",
        "**Section 21.2: Trapezoid Rule**"
      ],
      "metadata": {
        "id": "lesyamTvRSD6"
      }
    },
    {
      "cell_type": "markdown",
      "source": [
        "*Summary:*\n",
        "\n",
        "We can construct trapezoids into each subinterval rather than rectangles, and achieve a similar result.\n",
        "\n",
        "\n",
        "---\n",
        "\n",
        "\n",
        "*Implementation:*\n",
        "\n",
        "Using $f(x) = x^3$, as well as 12 subintervals, we can implement the trapezoid rule to find an approximation.\n",
        "\n",
        "\n"
      ],
      "metadata": {
        "id": "qWjcBahtNDgl"
      }
    },
    {
      "cell_type": "code",
      "source": [
        "# Define the function to be integrated\n",
        "def f(x):\n",
        "    return x**3\n",
        "\n",
        "a = 2\n",
        "b = 5\n",
        "n = 12\n",
        "\n",
        "# Define the width of each subinterval\n",
        "dx = (b - a) / n\n",
        "\n",
        "# Compute the endpoints of each subinterval\n",
        "xi = np.linspace(a, b, n+1)\n",
        "\n",
        "# Compute the trapezoidal rule approximation of the integral\n",
        "trapezoid_sum = (dx / 2) * (f(x[0]) + 2*np.sum(f(x[1:n])) + f(x[n]))\n",
        "\n",
        "print(f\"Exact: {exact}\")\n",
        "print(f\"Trapezoid rule: {trapezoid_sum}\")\n",
        "error = exact - trapezoid_sum\n",
        "print (f\"Error: {abs(error)}\")"
      ],
      "metadata": {
        "colab": {
          "base_uri": "https://localhost:8080/"
        },
        "id": "iW_IAcwERETZ",
        "outputId": "21221ce2-927b-4b32-a519-807616dc8d78"
      },
      "execution_count": 67,
      "outputs": [
        {
          "output_type": "stream",
          "name": "stdout",
          "text": [
            "Exact: 152.25\n",
            "Trapezoid rule: 152.578125\n",
            "Error: 0.328125\n"
          ]
        }
      ]
    },
    {
      "cell_type": "markdown",
      "source": [
        "Here we see that with 12 sub intervals, the trapezoid method outperformed the left-endpoint Riemann approximation."
      ],
      "metadata": {
        "id": "RQsuiOxtUTDn"
      }
    }
  ]
}