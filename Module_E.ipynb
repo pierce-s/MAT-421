{
  "nbformat": 4,
  "nbformat_minor": 0,
  "metadata": {
    "colab": {
      "provenance": [],
      "authorship_tag": "ABX9TyMBpz+JCbyiTLaD0DxVwrzh",
      "include_colab_link": true
    },
    "kernelspec": {
      "name": "python3",
      "display_name": "Python 3"
    },
    "language_info": {
      "name": "python"
    }
  },
  "cells": [
    {
      "cell_type": "markdown",
      "metadata": {
        "id": "view-in-github",
        "colab_type": "text"
      },
      "source": [
        "<a href=\"https://colab.research.google.com/github/pierce-s/MAT-421/blob/main/Module_E.ipynb\" target=\"_parent\"><img src=\"https://colab.research.google.com/assets/colab-badge.svg\" alt=\"Open In Colab\"/></a>"
      ]
    },
    {
      "cell_type": "markdown",
      "source": [
        "Student: Pierce Sarmiento\n",
        "\n",
        "---"
      ],
      "metadata": {
        "id": "3XxRoTpratpc"
      }
    },
    {
      "cell_type": "markdown",
      "source": [
        "#**Module E** \n",
        "**3.2** Continuity and Differentiation\n",
        "\n",
        "**3.3** Unconstrained Optimization\n",
        "\n",
        "---\n"
      ],
      "metadata": {
        "id": "8n_CHQ3oX3Vj"
      }
    },
    {
      "cell_type": "markdown",
      "source": [
        "**Section 3.2: Continuity and Differentiation**"
      ],
      "metadata": {
        "id": "AxlT-ej5Zfqx"
      }
    },
    {
      "cell_type": "markdown",
      "source": [
        "*Summary:*\n",
        "\n",
        "Optimization is a critical compontent to data science and artificial intelligence. With a deep understanding of concepts like limits, extrema, and derivatives, we can approach optimization from a computational point of view. Using the `sympy` library we can find the numerical solutions for these, and then use them toward an optimization problem. \n",
        "\n",
        "\n",
        "\n",
        "---\n",
        "\n",
        "\n",
        "*Implementation:*\n",
        "\n",
        "Finding the limit for the function $\\lim_{x\\to 2}\\frac{x^2 - 4}{x-2}$\n",
        "\n"
      ],
      "metadata": {
        "id": "s-nEwdnnf-Yi"
      }
    },
    {
      "cell_type": "code",
      "source": [
        "from sympy import Symbol, Limit\n",
        "\n",
        "# Define the symbol and function\n",
        "x = Symbol('x')\n",
        "f = (x**2 - 4) / (x - 2)\n",
        "\n",
        "# What x approaches\n",
        "a = 2\n",
        "\n",
        "# Calculate the limit\n",
        "limit = Limit(f, x, a).doit()\n",
        "\n",
        "print(f'For the function {f}:')\n",
        "print(f'The limit of the function as x approaches {a} is {limit}.')\n"
      ],
      "metadata": {
        "colab": {
          "base_uri": "https://localhost:8080/"
        },
        "id": "swBiRvNuEGwR",
        "outputId": "6f4b88a2-41ec-45ff-ace4-2756f51f6846"
      },
      "execution_count": 4,
      "outputs": [
        {
          "output_type": "stream",
          "name": "stdout",
          "text": [
            "For the function (x**2 - 4)/(x - 2):\n",
            "The limit of the function as x approaches 2 is 4.\n"
          ]
        }
      ]
    },
    {
      "cell_type": "markdown",
      "source": [
        "Find the limit of a function $\\lim_{x\\to \\infty}\\frac{1}{x}$"
      ],
      "metadata": {
        "id": "LxUzd7xSFaBw"
      }
    },
    {
      "cell_type": "code",
      "source": [
        "from sympy import oo\n",
        "f2 = 1/x\n",
        "limit2 = Limit(f2, x, oo).doit()\n",
        "\n",
        "print(f'For the function {f2}:')\n",
        "print(f'The limit of the function as x approaches {oo} is {limit2}.')"
      ],
      "metadata": {
        "colab": {
          "base_uri": "https://localhost:8080/"
        },
        "id": "5QLYxHLzFEiF",
        "outputId": "3726be59-8003-41ca-a4e6-dcf1901d585f"
      },
      "execution_count": 7,
      "outputs": [
        {
          "output_type": "stream",
          "name": "stdout",
          "text": [
            "For the function 1/x:\n",
            "The limit of the function as x approaches oo is 0.\n"
          ]
        }
      ]
    },
    {
      "cell_type": "code",
      "source": [
        "from scipy.optimize import minimize_scalar\n",
        "\n",
        "# Define the function to be minimized\n",
        "def f(x):\n",
        "    return x**2 - 6*x + 5\n",
        "\n",
        "# Use the minimize_scalar function to find the minimum\n",
        "result = minimize_scalar(f)\n",
        "\n",
        "print(f\"The minimum value is {result.fun} at x = {result.x}\")"
      ],
      "metadata": {
        "colab": {
          "base_uri": "https://localhost:8080/"
        },
        "id": "PO3O-2uYGChl",
        "outputId": "8d5f2184-1e77-4ede-f8c0-6287c16cbd07"
      },
      "execution_count": 62,
      "outputs": [
        {
          "output_type": "stream",
          "name": "stdout",
          "text": [
            "The minimum value is -4.0 at x = 2.99999995559\n"
          ]
        }
      ]
    },
    {
      "cell_type": "markdown",
      "source": [
        "We can verify this minimum graphically using `matplotlib`:"
      ],
      "metadata": {
        "id": "O-YG9cNsH2bV"
      }
    },
    {
      "cell_type": "code",
      "source": [
        "import numpy as np\n",
        "import matplotlib.pyplot as plt\n",
        "\n",
        "# Define the range of x values to plot\n",
        "x_values = np.linspace(-5, 10, 1000)\n",
        "\n",
        "# Evaluate the function at each x value\n",
        "y_values = f(x_values)\n",
        "\n",
        "result.x = round(result.x)\n",
        "# Plot the function and minimum value\n",
        "plt.plot(x_values, y_values, label='f(x)')\n",
        "plt.axvline(result.x, color='r', label=f'x = {result.x}')\n",
        "plt.axhline(-4, color='g', label=f'y = -4')\n",
        "\n",
        "# Plot axes\n",
        "plt.axhline(0, color='k')\n",
        "plt.axvline(0, color='k')\n",
        "plt.ylim(-5,5)\n",
        "plt.xlim(-3,6)\n",
        "plt.legend()\n",
        "plt.axis()\n",
        "plt.xlabel('x')\n",
        "plt.ylabel('f(x)')\n",
        "plt.show()"
      ],
      "metadata": {
        "colab": {
          "base_uri": "https://localhost:8080/",
          "height": 279
        },
        "id": "2KAx517sGcpW",
        "outputId": "39580ab6-28fe-4cec-b8de-c9c275774219"
      },
      "execution_count": 63,
      "outputs": [
        {
          "output_type": "display_data",
          "data": {
            "text/plain": [
              "<Figure size 432x288 with 1 Axes>"
            ],
            "image/png": "[encoded data removed]"
          },
          "metadata": {
            "needs_background": "light"
          }
        }
      ]
    },
    {
      "cell_type": "markdown",
      "source": [
        "We can use the same library to find derivatives as well:"
      ],
      "metadata": {
        "id": "IyPvRvKpIdPF"
      }
    },
    {
      "cell_type": "code",
      "source": [
        "import sympy\n",
        "\n",
        "# Define the variable and the function\n",
        "x = sympy.symbols('x')\n",
        "f = x**2 - 4*x + 1\n",
        "\n",
        "# Calculate the derivative of the function\n",
        "df = sympy.diff(f, x)\n",
        "\n",
        "print(f'The derivative of \\n{f} is \\n{df}')"
      ],
      "metadata": {
        "colab": {
          "base_uri": "https://localhost:8080/"
        },
        "id": "sVfxdlcWIkjO",
        "outputId": "f13a3a6c-f675-4810-fc54-05f6fc205544"
      },
      "execution_count": 64,
      "outputs": [
        {
          "output_type": "stream",
          "name": "stdout",
          "text": [
            "The derivative of \n",
            "x**2 - 4*x + 1 is \n",
            "2*x - 4\n"
          ]
        }
      ]
    },
    {
      "cell_type": "markdown",
      "source": [
        "The library `sympy` also has built-in taylor series functions, let's consider the function $f(x) = e^{x}$"
      ],
      "metadata": {
        "id": "w664MyPaOAFM"
      }
    },
    {
      "cell_type": "code",
      "source": [
        "# Define the variable and the function\n",
        "x = sympy.symbols('x')\n",
        "f = sympy.exp(x)\n",
        "\n",
        "# Choose a point at which to approximate the function\n",
        "x0 = 0\n",
        "\n",
        "# Define the order of the Taylor series\n",
        "n = 5\n",
        "\n",
        "# Calculate the Taylor series using sympy\n",
        "taylor = sympy.series(f, x, x0, n).removeO()\n",
        "\n",
        "# Define the range of x values to plot\n",
        "x_min, x_max = -2, 2\n",
        "x_values = np.linspace(x_min, x_max, 1000)\n",
        "\n",
        "# convert sympy expressions into workable numpy functions\n",
        "y_values = sympy.lambdify(x, f)(x_values)\n",
        "t_values = sympy.lambdify(x, taylor)(x_values)\n",
        "\n",
        "print(f'5th order approximation: {taylor}')\n",
        "# Plot the function against the Taylor series approximation\n",
        "plt.plot(x_values, y_values, label='f(x)')\n",
        "plt.plot(x_values, t_values, label=f'Taylor series of order {n} around x0={x0}')\n",
        "plt.legend()\n",
        "plt.xlabel('x')\n",
        "plt.ylabel('y')\n",
        "plt.show()"
      ],
      "metadata": {
        "colab": {
          "base_uri": "https://localhost:8080/",
          "height": 296
        },
        "id": "SLWI39J1MwEg",
        "outputId": "ae6fa030-ca25-4c09-ba63-5720390607a5"
      },
      "execution_count": 84,
      "outputs": [
        {
          "output_type": "stream",
          "name": "stdout",
          "text": [
            "5th order approximation: x**4/24 + x**3/6 + x**2/2 + x + 1\n"
          ]
        },
        {
          "output_type": "display_data",
          "data": {
            "text/plain": [
              "<Figure size 432x288 with 1 Axes>"
            ],
            "image/png": "[encoded data removed]"
          },
          "metadata": {
            "needs_background": "light"
          }
        }
      ]
    },
    {
      "cell_type": "markdown",
      "source": [
        "**Section 3.2: Unconstrained Optimization**"
      ],
      "metadata": {
        "id": "VRnang-VCRa0"
      }
    },
    {
      "cell_type": "markdown",
      "source": [
        "*Summary:*\n",
        "\n",
        "Unconstrained optimization is another key component for data science and artificial intelligence. It is important to find optimal values of a function, such as local extrema, without constraining our input variables. This often requires the use of algorithms involving gradient descent. \n",
        "\n",
        "With gradient descent, we can find minimum of a function, for example, by iteratively adjusting the value of the input variable toward the direction of a negative gradient. Moving along the descent leads us to the minimum, similar to a ball rolling down a hill which will rest at a lower point.\n",
        "\n",
        "\n",
        "---\n",
        "\n",
        "\n",
        "*Implementation:*"
      ],
      "metadata": {
        "id": "0j9d0h3qCVnC"
      }
    },
    {
      "cell_type": "markdown",
      "source": [
        "We can illustrate gradient descent as a method of finding minima. First we define a function $f(x) = x^2 - 6x + 5$. Its gradient would then be $2*x - 6$."
      ],
      "metadata": {
        "id": "jYeJASsfTjK7"
      }
    },
    {
      "cell_type": "code",
      "source": [
        "# Define the function to be minimized\n",
        "def f(x):\n",
        "    return x**2 - 6*x + 5\n",
        "\n",
        "# Define the gradient of the function\n",
        "def grad_f(x):\n",
        "    return 2*x - 6"
      ],
      "metadata": {
        "id": "wFH0qouQT1IW"
      },
      "execution_count": null,
      "outputs": []
    },
    {
      "cell_type": "markdown",
      "source": [
        "In order to use gradient descent we would need an initial guess. We can try an initial guess based on how the function looks graphically."
      ],
      "metadata": {
        "id": "wu6l6t_fT4ve"
      }
    },
    {
      "cell_type": "code",
      "source": [
        "x_min, x_max = -1, 7\n",
        "x_plot = np.linspace(x_min, x_max, 1000)\n",
        "f_plot = f(x_plot)\n",
        "plt.plot(x_plot, f_plot, label='f(x)')\n",
        "plt.show()"
      ],
      "metadata": {
        "colab": {
          "base_uri": "https://localhost:8080/",
          "height": 265
        },
        "id": "KwvKkMziUGg6",
        "outputId": "ed14ad72-9502-440c-9e37-132d60f886e7"
      },
      "execution_count": 87,
      "outputs": [
        {
          "output_type": "display_data",
          "data": {
            "text/plain": [
              "<Figure size 432x288 with 1 Axes>"
            ],
            "image/png": "[encoded data removed]"
          },
          "metadata": {
            "needs_background": "light"
          }
        }
      ]
    },
    {
      "cell_type": "markdown",
      "source": [
        "At $x = 5$, we should be sufficiently close to the local minimum. Now we can construct a loop using a step size while we iterate. The loop will run until we are within our tolerance or we have reached a maximum number of iterations."
      ],
      "metadata": {
        "id": "xYReP82tUOQZ"
      }
    },
    {
      "cell_type": "code",
      "source": [
        "# Define the step size and the initial guess for x\n",
        "step = 0.1\n",
        "x_init = 5\n",
        "\n",
        "# Define the maximum number of iterations and the tolerance for convergence\n",
        "max_iter = 100\n",
        "tolerance = 1e-6\n",
        "\n",
        "# Initialize the iteration counter, the value of x\n",
        "iter = 0\n",
        "x = x_init\n",
        "\n",
        "# Initialize lists to store the values of x and f(x) at each iteration\n",
        "x_values = [x]\n",
        "f_values = [f(x)]\n",
        "\n",
        "# Gradient descent\n",
        "while iter < max_iter:\n",
        "    # Calculate the gradient of the function at the current value of x\n",
        "    grad = grad_f(x)\n",
        "    \n",
        "    # Update the value of x using the gradient and step size\n",
        "    x_new = x - step * grad\n",
        "    \n",
        "    # Calculate the change in x and f(x) from the previous iteration\n",
        "    dx = abs(x_new - x)\n",
        "    df = abs(f(x_new) - f(x))\n",
        "    \n",
        "    # Append the new values of x and f(x) to the lists\n",
        "    x_values.append(x_new)\n",
        "    f_values.append(f(x_new))\n",
        "    \n",
        "    # Check if the change in x and f(x) is below the tolerance level\n",
        "    if dx < tolerance and df < tolerance:\n",
        "        print(f\"Converged after {iter+1} iterations\")\n",
        "        break\n",
        "    \n",
        "    # Update the iteration counter and the value of x\n",
        "    iter += 1\n",
        "    x = x_new\n",
        "\n",
        "# Print the result\n",
        "print(f\"The minimum value is {f(x)} at x = {x}\")"
      ],
      "metadata": {
        "colab": {
          "base_uri": "https://localhost:8080/"
        },
        "id": "dAJtx2fpPoRZ",
        "outputId": "dc0643da-7686-4340-aceb-0377ac8f9b0f"
      },
      "execution_count": 89,
      "outputs": [
        {
          "output_type": "stream",
          "name": "stdout",
          "text": [
            "Converged after 59 iterations\n",
            "The minimum value is -3.9999999999770637 at x = 3.0000047890485653\n"
          ]
        }
      ]
    },
    {
      "cell_type": "markdown",
      "source": [
        "Since we stored each updated point after applying the gradient descent, we can plot the progress of our approximate minimum against the function."
      ],
      "metadata": {
        "id": "lYDnRNrvVwUF"
      }
    },
    {
      "cell_type": "code",
      "source": [
        "# Plot the function and the values of x at each iteration\n",
        "plt.plot(x_plot, f_plot, label='f(x)')\n",
        "plt.axvline(x, color='g', label=f'x = {x}')\n",
        "plt.scatter(x_values, f_values, c='c', label='Gradient descent')\n",
        "plt.legend()\n",
        "plt.xlabel('x')\n",
        "plt.ylabel('f(x)')\n",
        "plt.show()"
      ],
      "metadata": {
        "colab": {
          "base_uri": "https://localhost:8080/",
          "height": 279
        },
        "id": "0xne-DN3VqHJ",
        "outputId": "90f3734f-d0ca-4d68-b067-fa7e74473aeb"
      },
      "execution_count": 94,
      "outputs": [
        {
          "output_type": "display_data",
          "data": {
            "text/plain": [
              "<Figure size 432x288 with 1 Axes>"
            ],
            "image/png": "[encoded data removed]"
          },
          "metadata": {
            "needs_background": "light"
          }
        }
      ]
    },
    {
      "cell_type": "markdown",
      "source": [
        "As the gradient descent algorithm iterated, the points went from our initial guess at $x = 5$ and continued closer and closer to $x=3$"
      ],
      "metadata": {
        "id": "VuSvwhMtaoP8"
      }
    }
  ]
}