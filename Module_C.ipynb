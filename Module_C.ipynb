{
  "nbformat": 4,
  "nbformat_minor": 0,
  "metadata": {
    "colab": {
      "provenance": [],
      "collapsed_sections": [
        "AxlT-ej5Zfqx"
      ],
      "authorship_tag": "ABX9TyN9X0wL66Cu2BNejwq9smWo",
      "include_colab_link": true
    },
    "kernelspec": {
      "name": "python3",
      "display_name": "Python 3"
    },
    "language_info": {
      "name": "python"
    },
    "widgets": {
      "application/vnd.jupyter.widget-state+json": {
        "522b4527654642f4a7deb808c6274c6f": {
          "model_module": "@jupyter-widgets/controls",
          "model_name": "VBoxModel",
          "model_module_version": "1.5.0",
          "state": {
            "_dom_classes": [
              "widget-interact"
            ],
            "_model_module": "@jupyter-widgets/controls",
            "_model_module_version": "1.5.0",
            "_model_name": "VBoxModel",
            "_view_count": null,
            "_view_module": "@jupyter-widgets/controls",
            "_view_module_version": "1.5.0",
            "_view_name": "VBoxView",
            "box_style": "",
            "children": [
              "IPY_MODEL_5483ba2f68774737a00092a253e0a01b",
              "IPY_MODEL_83d003a70ecd41f49cdf494c6c32bd5c"
            ],
            "layout": "IPY_MODEL_07e56457dd6a4bf9bcd9de0b71eeadf9"
          }
        },
        "5483ba2f68774737a00092a253e0a01b": {
          "model_module": "@jupyter-widgets/controls",
          "model_name": "IntSliderModel",
          "model_module_version": "1.5.0",
          "state": {
            "_dom_classes": [],
            "_model_module": "@jupyter-widgets/controls",
            "_model_module_version": "1.5.0",
            "_model_name": "IntSliderModel",
            "_view_count": null,
            "_view_module": "@jupyter-widgets/controls",
            "_view_module_version": "1.5.0",
            "_view_name": "IntSliderView",
            "continuous_update": true,
            "description": "index",
            "description_tooltip": null,
            "disabled": false,
            "layout": "IPY_MODEL_1bf62105cf4f4790b1b4214490d61930",
            "max": 5,
            "min": 0,
            "orientation": "horizontal",
            "readout": true,
            "readout_format": "d",
            "step": 1,
            "style": "IPY_MODEL_17ae62d91b5f46b6919c99943e3c5338",
            "value": 5
          }
        },
        "83d003a70ecd41f49cdf494c6c32bd5c": {
          "model_module": "@jupyter-widgets/output",
          "model_name": "OutputModel",
          "model_module_version": "1.0.0",
          "state": {
            "_dom_classes": [],
            "_model_module": "@jupyter-widgets/output",
            "_model_module_version": "1.0.0",
            "_model_name": "OutputModel",
            "_view_count": null,
            "_view_module": "@jupyter-widgets/output",
            "_view_module_version": "1.0.0",
            "_view_name": "OutputView",
            "layout": "IPY_MODEL_b6a9113b8302494b88f821795aba30d8",
            "msg_id": "",
            "outputs": [
              {
                "output_type": "display_data",
                "data": {
                  "text/plain": "<Figure size 432x288 with 1 Axes>",
                  "image/png": "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\n"
                },
                "metadata": {
                  "needs_background": "light"
                }
              }
            ]
          }
        },
        "07e56457dd6a4bf9bcd9de0b71eeadf9": {
          "model_module": "@jupyter-widgets/base",
          "model_name": "LayoutModel",
          "model_module_version": "1.2.0",
          "state": {
            "_model_module": "@jupyter-widgets/base",
            "_model_module_version": "1.2.0",
            "_model_name": "LayoutModel",
            "_view_count": null,
            "_view_module": "@jupyter-widgets/base",
            "_view_module_version": "1.2.0",
            "_view_name": "LayoutView",
            "align_content": null,
            "align_items": null,
            "align_self": null,
            "border": null,
            "bottom": null,
            "display": null,
            "flex": null,
            "flex_flow": null,
            "grid_area": null,
            "grid_auto_columns": null,
            "grid_auto_flow": null,
            "grid_auto_rows": null,
            "grid_column": null,
            "grid_gap": null,
            "grid_row": null,
            "grid_template_areas": null,
            "grid_template_columns": null,
            "grid_template_rows": null,
            "height": null,
            "justify_content": null,
            "justify_items": null,
            "left": null,
            "margin": null,
            "max_height": null,
            "max_width": null,
            "min_height": null,
            "min_width": null,
            "object_fit": null,
            "object_position": null,
            "order": null,
            "overflow": null,
            "overflow_x": null,
            "overflow_y": null,
            "padding": null,
            "right": null,
            "top": null,
            "visibility": null,
            "width": null
          }
        },
        "1bf62105cf4f4790b1b4214490d61930": {
          "model_module": "@jupyter-widgets/base",
          "model_name": "LayoutModel",
          "model_module_version": "1.2.0",
          "state": {
            "_model_module": "@jupyter-widgets/base",
            "_model_module_version": "1.2.0",
            "_model_name": "LayoutModel",
            "_view_count": null,
            "_view_module": "@jupyter-widgets/base",
            "_view_module_version": "1.2.0",
            "_view_name": "LayoutView",
            "align_content": null,
            "align_items": null,
            "align_self": null,
            "border": null,
            "bottom": null,
            "display": null,
            "flex": null,
            "flex_flow": null,
            "grid_area": null,
            "grid_auto_columns": null,
            "grid_auto_flow": null,
            "grid_auto_rows": null,
            "grid_column": null,
            "grid_gap": null,
            "grid_row": null,
            "grid_template_areas": null,
            "grid_template_columns": null,
            "grid_template_rows": null,
            "height": null,
            "justify_content": null,
            "justify_items": null,
            "left": null,
            "margin": null,
            "max_height": null,
            "max_width": null,
            "min_height": null,
            "min_width": null,
            "object_fit": null,
            "object_position": null,
            "order": null,
            "overflow": null,
            "overflow_x": null,
            "overflow_y": null,
            "padding": null,
            "right": null,
            "top": null,
            "visibility": null,
            "width": null
          }
        },
        "17ae62d91b5f46b6919c99943e3c5338": {
          "model_module": "@jupyter-widgets/controls",
          "model_name": "SliderStyleModel",
          "model_module_version": "1.5.0",
          "state": {
            "_model_module": "@jupyter-widgets/controls",
            "_model_module_version": "1.5.0",
            "_model_name": "SliderStyleModel",
            "_view_count": null,
            "_view_module": "@jupyter-widgets/base",
            "_view_module_version": "1.2.0",
            "_view_name": "StyleView",
            "description_width": "",
            "handle_color": null
          }
        },
        "b6a9113b8302494b88f821795aba30d8": {
          "model_module": "@jupyter-widgets/base",
          "model_name": "LayoutModel",
          "model_module_version": "1.2.0",
          "state": {
            "_model_module": "@jupyter-widgets/base",
            "_model_module_version": "1.2.0",
            "_model_name": "LayoutModel",
            "_view_count": null,
            "_view_module": "@jupyter-widgets/base",
            "_view_module_version": "1.2.0",
            "_view_name": "LayoutView",
            "align_content": null,
            "align_items": null,
            "align_self": null,
            "border": null,
            "bottom": null,
            "display": null,
            "flex": null,
            "flex_flow": null,
            "grid_area": null,
            "grid_auto_columns": null,
            "grid_auto_flow": null,
            "grid_auto_rows": null,
            "grid_column": null,
            "grid_gap": null,
            "grid_row": null,
            "grid_template_areas": null,
            "grid_template_columns": null,
            "grid_template_rows": null,
            "height": null,
            "justify_content": null,
            "justify_items": null,
            "left": null,
            "margin": null,
            "max_height": null,
            "max_width": null,
            "min_height": null,
            "min_width": null,
            "object_fit": null,
            "object_position": null,
            "order": null,
            "overflow": null,
            "overflow_x": null,
            "overflow_y": null,
            "padding": null,
            "right": null,
            "top": null,
            "visibility": null,
            "width": null
          }
        },
        "4bbadf73d64649aaa3960b53e265a0ad": {
          "model_module": "@jupyter-widgets/controls",
          "model_name": "VBoxModel",
          "model_module_version": "1.5.0",
          "state": {
            "_dom_classes": [
              "widget-interact"
            ],
            "_model_module": "@jupyter-widgets/controls",
            "_model_module_version": "1.5.0",
            "_model_name": "VBoxModel",
            "_view_count": null,
            "_view_module": "@jupyter-widgets/controls",
            "_view_module_version": "1.5.0",
            "_view_name": "VBoxView",
            "box_style": "",
            "children": [
              "IPY_MODEL_091d5150653a4947833776a35e580395",
              "IPY_MODEL_46d773c882cf4299866000b7c5e36bfa"
            ],
            "layout": "IPY_MODEL_237184dd293042e29306562cfacc9c0a"
          }
        },
        "091d5150653a4947833776a35e580395": {
          "model_module": "@jupyter-widgets/controls",
          "model_name": "IntSliderModel",
          "model_module_version": "1.5.0",
          "state": {
            "_dom_classes": [],
            "_model_module": "@jupyter-widgets/controls",
            "_model_module_version": "1.5.0",
            "_model_name": "IntSliderModel",
            "_view_count": null,
            "_view_module": "@jupyter-widgets/controls",
            "_view_module_version": "1.5.0",
            "_view_name": "IntSliderView",
            "continuous_update": true,
            "description": "index",
            "description_tooltip": null,
            "disabled": false,
            "layout": "IPY_MODEL_6c01f166a9e44f68ba4912cf2989f69b",
            "max": 7,
            "min": 0,
            "orientation": "horizontal",
            "readout": true,
            "readout_format": "d",
            "step": 1,
            "style": "IPY_MODEL_988b6857604945f987828ff96cdd2679",
            "value": 2
          }
        },
        "46d773c882cf4299866000b7c5e36bfa": {
          "model_module": "@jupyter-widgets/output",
          "model_name": "OutputModel",
          "model_module_version": "1.0.0",
          "state": {
            "_dom_classes": [],
            "_model_module": "@jupyter-widgets/output",
            "_model_module_version": "1.0.0",
            "_model_name": "OutputModel",
            "_view_count": null,
            "_view_module": "@jupyter-widgets/output",
            "_view_module_version": "1.0.0",
            "_view_name": "OutputView",
            "layout": "IPY_MODEL_ac3bec61833f4d22b367f2aa7acd95bb",
            "msg_id": "",
            "outputs": [
              {
                "output_type": "display_data",
                "data": {
                  "text/plain": "<Figure size 432x288 with 1 Axes>",
                  "image/png": "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\n"
                },
                "metadata": {
                  "needs_background": "light"
                }
              }
            ]
          }
        },
        "237184dd293042e29306562cfacc9c0a": {
          "model_module": "@jupyter-widgets/base",
          "model_name": "LayoutModel",
          "model_module_version": "1.2.0",
          "state": {
            "_model_module": "@jupyter-widgets/base",
            "_model_module_version": "1.2.0",
            "_model_name": "LayoutModel",
            "_view_count": null,
            "_view_module": "@jupyter-widgets/base",
            "_view_module_version": "1.2.0",
            "_view_name": "LayoutView",
            "align_content": null,
            "align_items": null,
            "align_self": null,
            "border": null,
            "bottom": null,
            "display": null,
            "flex": null,
            "flex_flow": null,
            "grid_area": null,
            "grid_auto_columns": null,
            "grid_auto_flow": null,
            "grid_auto_rows": null,
            "grid_column": null,
            "grid_gap": null,
            "grid_row": null,
            "grid_template_areas": null,
            "grid_template_columns": null,
            "grid_template_rows": null,
            "height": null,
            "justify_content": null,
            "justify_items": null,
            "left": null,
            "margin": null,
            "max_height": null,
            "max_width": null,
            "min_height": null,
            "min_width": null,
            "object_fit": null,
            "object_position": null,
            "order": null,
            "overflow": null,
            "overflow_x": null,
            "overflow_y": null,
            "padding": null,
            "right": null,
            "top": null,
            "visibility": null,
            "width": null
          }
        },
        "6c01f166a9e44f68ba4912cf2989f69b": {
          "model_module": "@jupyter-widgets/base",
          "model_name": "LayoutModel",
          "model_module_version": "1.2.0",
          "state": {
            "_model_module": "@jupyter-widgets/base",
            "_model_module_version": "1.2.0",
            "_model_name": "LayoutModel",
            "_view_count": null,
            "_view_module": "@jupyter-widgets/base",
            "_view_module_version": "1.2.0",
            "_view_name": "LayoutView",
            "align_content": null,
            "align_items": null,
            "align_self": null,
            "border": null,
            "bottom": null,
            "display": null,
            "flex": null,
            "flex_flow": null,
            "grid_area": null,
            "grid_auto_columns": null,
            "grid_auto_flow": null,
            "grid_auto_rows": null,
            "grid_column": null,
            "grid_gap": null,
            "grid_row": null,
            "grid_template_areas": null,
            "grid_template_columns": null,
            "grid_template_rows": null,
            "height": null,
            "justify_content": null,
            "justify_items": null,
            "left": null,
            "margin": null,
            "max_height": null,
            "max_width": null,
            "min_height": null,
            "min_width": null,
            "object_fit": null,
            "object_position": null,
            "order": null,
            "overflow": null,
            "overflow_x": null,
            "overflow_y": null,
            "padding": null,
            "right": null,
            "top": null,
            "visibility": null,
            "width": null
          }
        },
        "988b6857604945f987828ff96cdd2679": {
          "model_module": "@jupyter-widgets/controls",
          "model_name": "SliderStyleModel",
          "model_module_version": "1.5.0",
          "state": {
            "_model_module": "@jupyter-widgets/controls",
            "_model_module_version": "1.5.0",
            "_model_name": "SliderStyleModel",
            "_view_count": null,
            "_view_module": "@jupyter-widgets/base",
            "_view_module_version": "1.2.0",
            "_view_name": "StyleView",
            "description_width": "",
            "handle_color": null
          }
        },
        "ac3bec61833f4d22b367f2aa7acd95bb": {
          "model_module": "@jupyter-widgets/base",
          "model_name": "LayoutModel",
          "model_module_version": "1.2.0",
          "state": {
            "_model_module": "@jupyter-widgets/base",
            "_model_module_version": "1.2.0",
            "_model_name": "LayoutModel",
            "_view_count": null,
            "_view_module": "@jupyter-widgets/base",
            "_view_module_version": "1.2.0",
            "_view_name": "LayoutView",
            "align_content": null,
            "align_items": null,
            "align_self": null,
            "border": null,
            "bottom": null,
            "display": null,
            "flex": null,
            "flex_flow": null,
            "grid_area": null,
            "grid_auto_columns": null,
            "grid_auto_flow": null,
            "grid_auto_rows": null,
            "grid_column": null,
            "grid_gap": null,
            "grid_row": null,
            "grid_template_areas": null,
            "grid_template_columns": null,
            "grid_template_rows": null,
            "height": null,
            "justify_content": null,
            "justify_items": null,
            "left": null,
            "margin": null,
            "max_height": null,
            "max_width": null,
            "min_height": null,
            "min_width": null,
            "object_fit": null,
            "object_position": null,
            "order": null,
            "overflow": null,
            "overflow_x": null,
            "overflow_y": null,
            "padding": null,
            "right": null,
            "top": null,
            "visibility": null,
            "width": null
          }
        }
      }
    }
  },
  "cells": [
    {
      "cell_type": "markdown",
      "metadata": {
        "id": "view-in-github",
        "colab_type": "text"
      },
      "source": [
        "<a href=\"https://colab.research.google.com/github/pierce-s/MAT-421/blob/main/Module_C.ipynb\" target=\"_parent\"><img src=\"https://colab.research.google.com/assets/colab-badge.svg\" alt=\"Open In Colab\"/></a>"
      ]
    },
    {
      "cell_type": "markdown",
      "source": [
        "Student: Pierce Sarmiento\n",
        "\n",
        "---"
      ],
      "metadata": {
        "id": "3XxRoTpratpc"
      }
    },
    {
      "cell_type": "markdown",
      "source": [
        "#**Module C** \n",
        "**Section 19.1:** Root Finding\n",
        "\n",
        "**Section 19.2:** Tolerance\n",
        "\n",
        "**Section 19.3:** Bisection Method\n",
        "\n",
        "**Section 19.4:** Newton-Raphson Method\n",
        "\n",
        "**Section 19.5:** Root Finding in Python\n",
        "\n",
        "---\n",
        "\n"
      ],
      "metadata": {
        "id": "8n_CHQ3oX3Vj"
      }
    },
    {
      "cell_type": "markdown",
      "source": [
        "###**Section 19.1 Root Finding**"
      ],
      "metadata": {
        "id": "AxlT-ej5Zfqx"
      }
    },
    {
      "cell_type": "markdown",
      "source": [
        "*Summary:* \n",
        "\n",
        "We often need to find the root of a function (the points where the function is zero). For many functions, we can figure this out analytically. However, this becomes more difficult depending on the function that we use. Thus, we can use numerical approximations to find the roots instead. There are some scenarios where this approach falls short, however.\n",
        "\n",
        "---\n",
        "\n",
        "\n",
        "\n"
      ],
      "metadata": {
        "id": "-JZ6QaRva9vL"
      }
    },
    {
      "cell_type": "markdown",
      "source": [
        "*Implementation:*\n",
        "\n",
        "Lets consider two scenarios, where we find the roots numerically. For the first scenario lets look at the function $f(x) = x^3 - x^2 + 2$. We can write a short script using the libraries `numpy`, `matplotlib`, and `scipy`. "
      ],
      "metadata": {
        "id": "2vC6enOldGam"
      }
    },
    {
      "cell_type": "code",
      "source": [
        "import numpy as np\n",
        "import matplotlib.pyplot as plt\n",
        "from scipy import optimize\n",
        "\n",
        "def f(x):\n",
        "    return x**3 - x**2 + 2\n",
        "\n",
        "solve = optimize.root(f, x0=1.5, method='hybr')\n",
        "root = solve.x[0]\n",
        "\n",
        "print(\"The root of f(x):\", root)"
      ],
      "metadata": {
        "colab": {
          "base_uri": "https://localhost:8080/"
        },
        "id": "xjjGJUc6-jax",
        "outputId": "e96e60c7-0497-4f1d-de26-e3365fbb6302"
      },
      "execution_count": null,
      "outputs": [
        {
          "output_type": "stream",
          "name": "stdout",
          "text": [
            "The root of f(x): -1.0\n"
          ]
        }
      ]
    },
    {
      "cell_type": "markdown",
      "source": [
        "Here we see using `optimize.root` that the root of $f(x)$ is $-1$. This function works by applying root finding methods to an initial guess.\n",
        "\n",
        "Let's look at the function graphically:"
      ],
      "metadata": {
        "id": "KSMB110--qKv"
      }
    },
    {
      "cell_type": "code",
      "source": [
        "fig, ax = plt.subplots()\n",
        "plt.axhline(y=0, color='k')\n",
        "plt.axvline(x=0, color='k')\n",
        "plt.xlabel('x')\n",
        "plt.ylabel('f(x)')\n",
        "plt.title('x**3 - x**2 + 2')\n",
        "\n",
        "x = np.linspace(-5, 5, 1000)\n",
        "ax.plot(x, f(x), color = 'c')\n",
        "\n",
        "ax.set_ylim(-3, 3)\n",
        "ax.set_xlim(-3, 3)\n",
        "\n",
        "#plot a point at the root\n",
        "plt.scatter(root, f(root), color='red')\n",
        "plt.annotate(f'Root at x = {root:.2f}', (root, 0), xytext=(-2, 2),\n",
        "             arrowprops=dict(arrowstyle='->', color='red'), color='red')\n",
        "\n",
        "plt.grid()"
      ],
      "metadata": {
        "colab": {
          "base_uri": "https://localhost:8080/",
          "height": 295
        },
        "id": "0QpyAkWP_cFL",
        "outputId": "5a6df64d-742b-4029-80bb-86d9f31beeda"
      },
      "execution_count": null,
      "outputs": [
        {
          "output_type": "display_data",
          "data": {
            "text/plain": [
              "<Figure size 432x288 with 1 Axes>"
            ],
            "image/png": "[encoded data removed]"
          },
          "metadata": {
            "needs_background": "light"
          }
        }
      ]
    },
    {
      "cell_type": "markdown",
      "source": [
        "We can see graphically that the function has one root. However, some functions have multiple roots. For the second scenario, lets look at the function $g(x) = x^3 - 3x^2 + x$"
      ],
      "metadata": {
        "id": "xBoxQcikAcoh"
      }
    },
    {
      "cell_type": "code",
      "source": [
        "def g(x):\n",
        "    return x**3 - 3*x*2 + x \n",
        "\n",
        "fig, ax = plt.subplots()\n",
        "plt.axhline(y=0, color='k')\n",
        "plt.axvline(x=0, color='k')\n",
        "plt.xlabel('x')\n",
        "plt.ylabel('g(x)')\n",
        "plt.title('x**2 - cos(x)')\n",
        "\n",
        "x = np.linspace(-5, 5, 1000) # scale the x-axis\n",
        "#plt.plot(x, g(x))\n",
        "ax.plot(x, g(x), color = 'c')\n",
        "\n",
        "ax.set_ylim(-8, 8)\n",
        "#ax.set_xlim(-5, 5)\n",
        "\n",
        "plt.grid()"
      ],
      "metadata": {
        "colab": {
          "base_uri": "https://localhost:8080/",
          "height": 295
        },
        "id": "LCSOFUm-Bfx0",
        "outputId": "d8244648-4012-4e9b-9074-cd0c17e284e6"
      },
      "execution_count": null,
      "outputs": [
        {
          "output_type": "display_data",
          "data": {
            "text/plain": [
              "<Figure size 432x288 with 1 Axes>"
            ],
            "image/png": "[encoded data removed]"
          },
          "metadata": {
            "needs_background": "light"
          }
        }
      ]
    },
    {
      "cell_type": "markdown",
      "source": [
        "In this case we have multiple roots, thus we have to adjust the initial guess when using `optimize.root` to find the roots."
      ],
      "metadata": {
        "id": "I6FKVNOGBMc_"
      }
    },
    {
      "cell_type": "code",
      "source": [
        "#Solve for the first root\n",
        "solve1 = optimize.root(g, x0=10, method='hybr')\n",
        "root1 = solve1.x[0]\n",
        "\n",
        "#solve for the second root\n",
        "solve2 = optimize.root(g, x0=-10, method='hybr')\n",
        "root2 = solve2.x[0]\n",
        "\n",
        "fig, ax = plt.subplots()\n",
        "plt.axhline(y=0, color='k')\n",
        "plt.axvline(x=0, color='k')\n",
        "plt.xlabel('x')\n",
        "plt.ylabel('g(x)')\n",
        "plt.title('x**2 - cos(x)')\n",
        "\n",
        "x = np.linspace(-5, 5, 1000)\n",
        "\n",
        "ax.plot(x, g(x), color = 'c')\n",
        "\n",
        "ax.set_ylim(-8, 8)\n",
        "\n",
        "#plot both roots\n",
        "plt.scatter(root2, g(root2), color='blue')\n",
        "plt.annotate(f'Root 1 = {root2:.2f}', (root2, 0), xytext=(-5, 5),\n",
        "             arrowprops=dict(arrowstyle='->', color='blue'), color='blue')\n",
        "plt.scatter(root1, g(root1), color='red')\n",
        "plt.annotate(f'Root 2 = {root1:.2f}', (root1, 0), xytext=(0, 5),\n",
        "             arrowprops=dict(arrowstyle='->', color='red'), color='red')\n",
        "\n",
        "plt.grid()\n",
        "plt.show()\n",
        "print(\"Root 1 for g(x):\", root1)\n",
        "print(\"Root 2 for g(x):\", root2)"
      ],
      "metadata": {
        "colab": {
          "base_uri": "https://localhost:8080/",
          "height": 330
        },
        "id": "NJIEYOeXDKvy",
        "outputId": "9ed2e397-8b30-4d1d-c4ce-5f918a7519bf"
      },
      "execution_count": null,
      "outputs": [
        {
          "output_type": "display_data",
          "data": {
            "text/plain": [
              "<Figure size 432x288 with 1 Axes>"
            ],
            "image/png": "[encoded data removed]"
          },
          "metadata": {
            "needs_background": "light"
          }
        },
        {
          "output_type": "stream",
          "name": "stdout",
          "text": [
            "Root 1 for g(x): 2.2360679774997902\n",
            "Root 2 for g(x): -2.2360679774997902\n"
          ]
        }
      ]
    },
    {
      "cell_type": "markdown",
      "source": [
        "By adjusting our initial guess `x0` we can use the numerical approach to find two of the roots. Graphically, we see that the last root is at $x=0$."
      ],
      "metadata": {
        "id": "MbNnPW9REte3"
      }
    },
    {
      "cell_type": "markdown",
      "source": [
        "---\n",
        "\n",
        "###**Section 19.2 Tolerance**\n",
        "\n",
        "\n"
      ],
      "metadata": {
        "id": "0DaYj3EeFQ8o"
      }
    },
    {
      "cell_type": "markdown",
      "source": [
        "*Summary:* \n",
        "\n",
        "When computing roots we take into consideration the error, which is the difference between the exact or expected root and what we compute. The threshold that we deem to be acceptable is called tolerance. When the error is less than the tolerance, we have converged to a solution.\n",
        "\n",
        "---\n",
        "\n",
        "\n",
        "\n"
      ],
      "metadata": {
        "id": "Khto6TRDFlk4"
      }
    },
    {
      "cell_type": "markdown",
      "source": [
        "*Implementation:* \n",
        "\n",
        "Since `scipy.optimize.root` uses a numerical approach and `np.roots` is based on an analytical method involving eigenvectors, we can use these two methods to calculate error. Let's consider the function $f(x) = x^3 - 2x^2 + 2$."
      ],
      "metadata": {
        "id": "yirYbJbaFonn"
      }
    },
    {
      "cell_type": "code",
      "source": [
        "import numpy as np\n",
        "from scipy.optimize import root\n",
        "\n",
        "def f(x):\n",
        "    return x**3 - 2*x**2 + 2\n",
        "\n",
        "tolerance = 1e-13\n",
        "\n",
        "#scipy\n",
        "result1 = root(f, x0=-1.5, method='hybr')\n",
        "result1 = result1.x[0]\n",
        "\n",
        "#numpy\n",
        "coeff = [1,-2,0,2]\n",
        "result2 = np.roots(coeff)\n",
        "result2 = np.real(result2[2])\n",
        "\n",
        "error = abs(result2 - result1) / abs(result2)\n",
        "print(f\"Result1 {result1} \\nResult2 {result2} \\nabsolute error: {error}\")\n",
        "print(f\"{'Within tolerance' if error < tolerance else 'Not within tolerance'}\")\n"
      ],
      "metadata": {
        "colab": {
          "base_uri": "https://localhost:8080/"
        },
        "id": "3TfAceibOTJz",
        "outputId": "16336800-2487-4dc7-d0cb-b3902ec4161a"
      },
      "execution_count": null,
      "outputs": [
        {
          "output_type": "stream",
          "name": "stdout",
          "text": [
            "Result1 -0.8392867552141696 \n",
            "Result2 -0.8392867552141612 \n",
            "absolute error: 1.0053411345682608e-14\n",
            "Within tolerance\n"
          ]
        }
      ]
    },
    {
      "cell_type": "markdown",
      "source": [
        "From this example we can see that the numerical method would be acceptable within a tolerance defined by $\\text{absolute error} < 1 * 10^{-13}$\n"
      ],
      "metadata": {
        "id": "D6dLs05dPDos"
      }
    },
    {
      "cell_type": "markdown",
      "source": [
        "---\n",
        "\n",
        "###**Section 19.3 Bisection Method**\n",
        "\n",
        "\n"
      ],
      "metadata": {
        "id": "B3aQU-HORQ34"
      }
    },
    {
      "cell_type": "markdown",
      "source": [
        "*Summary:* \n",
        "\n",
        "The bisection method is an implementation using the intermediate value theorem. Essentially, if a function is continuous and we have two function values with opposite signs, the root is somewhere inbetween those function values. The midpoint between those two values will either be the root, positive, or negative. If the midpoint is not the root, then it is closer to the root than our previous function values. We can use this information to close in on the actual root.\n",
        "\n",
        "\n",
        "---\n",
        "\n",
        "\n",
        "\n"
      ],
      "metadata": {
        "id": "qJTJpMn3KIoC"
      }
    },
    {
      "cell_type": "markdown",
      "source": [
        "*Implementation:* \n",
        "\n",
        "We can illustrate how the bisection method works by plotting each $f(a)$, $f(b)$, and $f(m)$, where $m$ is the midpoint between $a$ and $b$. I wrote a script which tracks the index of each recursion of `my_bisection`."
      ],
      "metadata": {
        "id": "W9sVEXf9S-Cm"
      }
    },
    {
      "cell_type": "code",
      "source": [
        "import numpy as np\n",
        "import matplotlib.pyplot as plt\n",
        "from ipywidgets import interact\n",
        "\n",
        "def f(x):\n",
        "    return x**2 - 2\n",
        "\n",
        "def my_bisection(f, a, b, tol, plots):\n",
        "\n",
        "    sign1 = (f(a) < 0)\n",
        "    sign2 = (f(b) < 0)\n",
        "\n",
        "    if sign1 == sign2:\n",
        "        print(f\"f(a) = {f(a)} and f(b) = {f(b)} have the same sign.\")\n",
        "        return\n",
        "\n",
        "    m = (a + b) / 2\n",
        "\n",
        "    plots.append((a,b,m))\n",
        "\n",
        "    sign3 = (f(m) < 0)\n",
        "    if abs(f(m)) < tol:\n",
        "        return m\n",
        "\n",
        "    elif sign1 == sign3:\n",
        "        return my_bisection(f, m, b, tol, plots)\n",
        "\n",
        "    elif sign2 == sign3:\n",
        "        return my_bisection(f, a, m, tol, plots)\n",
        "\n",
        "\n",
        "def plot_bisection(f, a, b, tol):\n",
        "    plots = []\n",
        "    r = my_bisection(f, a, b, tol, plots)\n",
        "    print(f\"root : {r}\")\n",
        "    \n",
        "    x = np.linspace(a, b, 1000)\n",
        "    \n",
        "    \n",
        "    def show_plot(index):\n",
        "        plot = plots[index]\n",
        "        fig, ax = plt.subplots()\n",
        "        ax.plot(x, f(x), label=\"f(x)\")\n",
        "        ax.axvline(x=plot[0], color=\"green\", label=\"f(a)\")\n",
        "        ax.axvline(x=plot[1], color=\"blue\", label=\"f(b)\")\n",
        "        ax.axvline(x=plot[2], color=\"red\", label=\"f(m)\")\n",
        "\n",
        "        ax.axvline(x=0, color=\"black\")\n",
        "        ax.axhline(y=0, color=\"black\")\n",
        "        \n",
        "        a, b, m = plot[0],plot[1],plot[2]\n",
        "        \n",
        "        ax.annotate(f\"a = {a}\", (0.5, 1.75),\n",
        "                xytext=(0, 5),\n",
        "                textcoords='offset points',)\n",
        "        ax.annotate(f\"b = {b}\", (0.5, 1.5),\n",
        "                xytext=(0, 5),\n",
        "                textcoords='offset points',)\n",
        "        \n",
        "        ax.annotate(f\"m = {m}\", (0.5, 1.25),\n",
        "                xytext=(0, 5),\n",
        "                textcoords='offset points',)\n",
        "        ax.legend()\n",
        "        plt.show()\n",
        "        \n",
        "    \n",
        "    interact(show_plot, index=(0, len(plots) - 1))\n",
        "\n",
        "a, b, tol = 0, 2, 1e-2    \n",
        "plot_bisection(f, a, b, tol)        \n",
        "  "
      ],
      "metadata": {
        "colab": {
          "base_uri": "https://localhost:8080/",
          "height": 314,
          "referenced_widgets": [
            "4bbadf73d64649aaa3960b53e265a0ad",
            "091d5150653a4947833776a35e580395",
            "46d773c882cf4299866000b7c5e36bfa",
            "237184dd293042e29306562cfacc9c0a",
            "6c01f166a9e44f68ba4912cf2989f69b",
            "988b6857604945f987828ff96cdd2679",
            "ac3bec61833f4d22b367f2aa7acd95bb"
          ]
        },
        "id": "si-oywz4SjPU",
        "outputId": "6ff6f009-92fe-4961-ad78-fa59e8810121"
      },
      "execution_count": 36,
      "outputs": [
        {
          "output_type": "stream",
          "name": "stdout",
          "text": [
            "root : 1.4140625\n"
          ]
        },
        {
          "output_type": "display_data",
          "data": {
            "text/plain": [
              "interactive(children=(IntSlider(value=3, description='index', max=7), Output()), _dom_classes=('widget-interac…"
            ],
            "application/vnd.jupyter.widget-view+json": {
              "version_major": 2,
              "version_minor": 0,
              "model_id": "4bbadf73d64649aaa3960b53e265a0ad"
            }
          },
          "metadata": {}
        }
      ]
    },
    {
      "cell_type": "markdown",
      "source": [
        "Note: This script creates an interactive widget, which is not compatible with github. It can be viewed on the google colab page: https://colab.research.google.com/drive/18d4sUKpGuk4dlaUCc3Ev8a4bmSV1Gpbb#scrollTo=si-oywz4SjPU&line=1&uniqifier=1\n",
        "\n",
        "Screenshot:\n",
        "\n",
        " ![19.3.png](data:image/png;base64,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)"
      ],
      "metadata": {
        "id": "lKUIoFvUdjgw"
      }
    },
    {
      "cell_type": "markdown",
      "source": [
        "By adjusting the slider for `index` we can see how the bisection method converges to the root at $x = \\sqrt{2}$."
      ],
      "metadata": {
        "id": "nPf1PJC4TrEI"
      }
    },
    {
      "cell_type": "markdown",
      "source": [
        "---\n",
        "\n",
        "###**Section 19.4 Newton-Raphson Method**\n",
        "\n",
        "\n",
        "\n"
      ],
      "metadata": {
        "id": "ZnwkB7beWOOM"
      }
    },
    {
      "cell_type": "markdown",
      "source": [
        "*Summary:* \n",
        "\n",
        "The Newton-Raphson method instead uses tangential lines to find the approximate root of a function. By using an initial guess for the root, we can use a linear approximation of the function at the guessing point. The line that is tangent to the curve will intersect the x-axis, which becomes the new guess. After the iteration, if we are within the tolerance, we have found a solution.\n",
        "\n",
        "\n",
        "---\n",
        "\n"
      ],
      "metadata": {
        "id": "w_jF59MiYn_M"
      }
    },
    {
      "cell_type": "markdown",
      "source": [
        "*Implementation:* \n",
        "\n",
        "We can write a similar script as before, but this time applying the Newton-Raphson Method."
      ],
      "metadata": {
        "id": "sObmdtZXa3vc"
      }
    },
    {
      "cell_type": "code",
      "source": [
        "import numpy as np\n",
        "import matplotlib.pyplot as plt\n",
        "from ipywidgets import interact\n",
        "\n",
        "def f(x):\n",
        "    return x**2 - 2\n",
        "\n",
        "def df(x):\n",
        "    return 2*x\n",
        "\n",
        "def my_newton(f, df, x, tol, plots):\n",
        "    plots.append(x)\n",
        "    x_new = x - f(x)/df(x)\n",
        "    if abs(x_new - x) < tol:\n",
        "        return x_new\n",
        "\n",
        "    return my_newton(f, df, x_new, tol, plots)\n",
        "\n",
        "def plot_newton(f, df, x, tol):\n",
        "    plots = []\n",
        "    r = my_newton(f, df, x, tol, plots)\n",
        "    print(f\"root : {r}\")\n",
        "    \n",
        "    x_ = np.linspace(0, 2, 1000)\n",
        "    \n",
        "\n",
        "    def show_plot(index):\n",
        "        x = plots[index]\n",
        "        fig, ax = plt.subplots()\n",
        "        ax.plot(x_, f(x_), label=\"f(x)\")\n",
        "        ax.axvline(x=x, color=\"red\", label=\"x_i\")\n",
        "\n",
        "        ax.annotate(f\"x_i = {x}\", (0.5, 1.25),\n",
        "                xytext=(0, 5),\n",
        "                textcoords='offset points',)\n",
        "        \n",
        "        ax.axvline(x=0, color=\"black\")\n",
        "        ax.axhline(y=0, color=\"black\")\n",
        "        \n",
        "        ax.legend()\n",
        "        plt.show()\n",
        "        \n",
        "    interact(show_plot, index=(0, len(plots) - 1))\n",
        "\n",
        "x, tol = 1, 1e-12    \n",
        "\n",
        "plot_newton(f, df, x, tol) "
      ],
      "metadata": {
        "colab": {
          "base_uri": "https://localhost:8080/",
          "height": 314,
          "referenced_widgets": [
            "522b4527654642f4a7deb808c6274c6f",
            "5483ba2f68774737a00092a253e0a01b",
            "83d003a70ecd41f49cdf494c6c32bd5c",
            "07e56457dd6a4bf9bcd9de0b71eeadf9",
            "1bf62105cf4f4790b1b4214490d61930",
            "17ae62d91b5f46b6919c99943e3c5338",
            "b6a9113b8302494b88f821795aba30d8"
          ]
        },
        "id": "Vh0vdNPLWUQ7",
        "outputId": "ffb4f76b-dd23-4517-ca6b-4aa4be4f8ff5"
      },
      "execution_count": null,
      "outputs": [
        {
          "output_type": "stream",
          "name": "stdout",
          "text": [
            "root : 1.414213562373095\n"
          ]
        },
        {
          "output_type": "display_data",
          "data": {
            "text/plain": [
              "interactive(children=(IntSlider(value=2, description='index', max=5), Output()), _dom_classes=('widget-interac…"
            ],
            "application/vnd.jupyter.widget-view+json": {
              "version_major": 2,
              "version_minor": 0,
              "model_id": "522b4527654642f4a7deb808c6274c6f"
            }
          },
          "metadata": {}
        }
      ]
    },
    {
      "cell_type": "markdown",
      "source": [
        "Note: This script creates an interactive widget, which is not compatible with github. It can be viewed on the google colab page: https://colab.research.google.com/drive/18d4sUKpGuk4dlaUCc3Ev8a4bmSV1Gpbb#scrollTo=Vh0vdNPLWUQ7&line=1&uniqifier=1\n",
        "\n",
        "Screenshot:\n",
        "\n",
        "![image.png](data:image/png;base64,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)"
      ],
      "metadata": {
        "id": "JkQ3o81xd1_k"
      }
    },
    {
      "cell_type": "markdown",
      "source": [
        "For the given function, this method outperformed the bisection method. By the fifth index the error defined by $\\vert x_i - x \\vert$ was less than a tolerance of $1 * 10^{-12}$."
      ],
      "metadata": {
        "id": "-v_3bvwRbGRW"
      }
    },
    {
      "cell_type": "markdown",
      "source": [
        "---\n",
        "\n",
        "###**Section 19.5 Root Finding in Python**\n",
        "\n",
        "\n",
        "\n"
      ],
      "metadata": {
        "id": "8L8NWT61bxJ9"
      }
    },
    {
      "cell_type": "markdown",
      "source": [
        "*Conclusion:* \n",
        "\n",
        "In this module, we discussed the uses of root finding as a numerical method. Python offers a variety of options for root finding due to the plethora of available libraries. The `scipy` and `numpy` libraries were used in the scope of the scripts I have written here. We use these numerical approaches when an analytical approach may be more difficult or inconvenient. These approaches offer approximate solutions, where the acceptable error is below a set tolerance. Each method, including an analytical approach, has advantages and disadvantages."
      ],
      "metadata": {
        "id": "r16IkoM9b2sm"
      }
    }
  ]
}