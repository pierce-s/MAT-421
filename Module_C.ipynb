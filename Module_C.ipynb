{
  "nbformat": 4,
  "nbformat_minor": 0,
  "metadata": {
    "colab": {
      "provenance": [],
      "collapsed_sections": [
        "AxlT-ej5Zfqx"
      ],
      "authorship_tag": "ABX9TyOWS0YPuPJAZ6gI6rzaFdBS",
      "include_colab_link": true
    },
    "kernelspec": {
      "name": "python3",
      "display_name": "Python 3"
    },
    "language_info": {
      "name": "python"
    },
    "widgets": {
      "application/vnd.jupyter.widget-state+json": {
        "9138f619bd7544f29b9e6a5fb5e7a3c2": {
          "model_module": "@jupyter-widgets/controls",
          "model_name": "VBoxModel",
          "model_module_version": "1.5.0",
          "state": {
            "_dom_classes": [
              "widget-interact"
            ],
            "_model_module": "@jupyter-widgets/controls",
            "_model_module_version": "1.5.0",
            "_model_name": "VBoxModel",
            "_view_count": null,
            "_view_module": "@jupyter-widgets/controls",
            "_view_module_version": "1.5.0",
            "_view_name": "VBoxView",
            "box_style": "",
            "children": [
              "IPY_MODEL_3c681d7ff76e4bf09d33063994422e96",
              "IPY_MODEL_4214a60749974835bbb879c319206875"
            ],
            "layout": "IPY_MODEL_aa5e9379fc0a4ac896b3377513a8bf2d"
          }
        },
        "3c681d7ff76e4bf09d33063994422e96": {
          "model_module": "@jupyter-widgets/controls",
          "model_name": "IntSliderModel",
          "model_module_version": "1.5.0",
          "state": {
            "_dom_classes": [],
            "_model_module": "@jupyter-widgets/controls",
            "_model_module_version": "1.5.0",
            "_model_name": "IntSliderModel",
            "_view_count": null,
            "_view_module": "@jupyter-widgets/controls",
            "_view_module_version": "1.5.0",
            "_view_name": "IntSliderView",
            "continuous_update": true,
            "description": "index",
            "description_tooltip": null,
            "disabled": false,
            "layout": "IPY_MODEL_9313b07572914dd7a2393b249b4e42c9",
            "max": 7,
            "min": 0,
            "orientation": "horizontal",
            "readout": true,
            "readout_format": "d",
            "step": 1,
            "style": "IPY_MODEL_ea2b274e112940bebf27b4e5608d3e80",
            "value": 0
          }
        },
        "4214a60749974835bbb879c319206875": {
          "model_module": "@jupyter-widgets/output",
          "model_name": "OutputModel",
          "model_module_version": "1.0.0",
          "state": {
            "_dom_classes": [],
            "_model_module": "@jupyter-widgets/output",
            "_model_module_version": "1.0.0",
            "_model_name": "OutputModel",
            "_view_count": null,
            "_view_module": "@jupyter-widgets/output",
            "_view_module_version": "1.0.0",
            "_view_name": "OutputView",
            "layout": "IPY_MODEL_4aaed22a005b4f0599c9d01c2485ab00",
            "msg_id": "",
            "outputs": [
              {
                "output_type": "display_data",
                "data": {
                  "text/plain": "<Figure size 432x288 with 1 Axes>",
                  "image/png": "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\n"
                },
                "metadata": {
                  "needs_background": "light"
                }
              }
            ]
          }
        },
        "aa5e9379fc0a4ac896b3377513a8bf2d": {
          "model_module": "@jupyter-widgets/base",
          "model_name": "LayoutModel",
          "model_module_version": "1.2.0",
          "state": {
            "_model_module": "@jupyter-widgets/base",
            "_model_module_version": "1.2.0",
            "_model_name": "LayoutModel",
            "_view_count": null,
            "_view_module": "@jupyter-widgets/base",
            "_view_module_version": "1.2.0",
            "_view_name": "LayoutView",
            "align_content": null,
            "align_items": null,
            "align_self": null,
            "border": null,
            "bottom": null,
            "display": null,
            "flex": null,
            "flex_flow": null,
            "grid_area": null,
            "grid_auto_columns": null,
            "grid_auto_flow": null,
            "grid_auto_rows": null,
            "grid_column": null,
            "grid_gap": null,
            "grid_row": null,
            "grid_template_areas": null,
            "grid_template_columns": null,
            "grid_template_rows": null,
            "height": null,
            "justify_content": null,
            "justify_items": null,
            "left": null,
            "margin": null,
            "max_height": null,
            "max_width": null,
            "min_height": null,
            "min_width": null,
            "object_fit": null,
            "object_position": null,
            "order": null,
            "overflow": null,
            "overflow_x": null,
            "overflow_y": null,
            "padding": null,
            "right": null,
            "top": null,
            "visibility": null,
            "width": null
          }
        },
        "9313b07572914dd7a2393b249b4e42c9": {
          "model_module": "@jupyter-widgets/base",
          "model_name": "LayoutModel",
          "model_module_version": "1.2.0",
          "state": {
            "_model_module": "@jupyter-widgets/base",
            "_model_module_version": "1.2.0",
            "_model_name": "LayoutModel",
            "_view_count": null,
            "_view_module": "@jupyter-widgets/base",
            "_view_module_version": "1.2.0",
            "_view_name": "LayoutView",
            "align_content": null,
            "align_items": null,
            "align_self": null,
            "border": null,
            "bottom": null,
            "display": null,
            "flex": null,
            "flex_flow": null,
            "grid_area": null,
            "grid_auto_columns": null,
            "grid_auto_flow": null,
            "grid_auto_rows": null,
            "grid_column": null,
            "grid_gap": null,
            "grid_row": null,
            "grid_template_areas": null,
            "grid_template_columns": null,
            "grid_template_rows": null,
            "height": null,
            "justify_content": null,
            "justify_items": null,
            "left": null,
            "margin": null,
            "max_height": null,
            "max_width": null,
            "min_height": null,
            "min_width": null,
            "object_fit": null,
            "object_position": null,
            "order": null,
            "overflow": null,
            "overflow_x": null,
            "overflow_y": null,
            "padding": null,
            "right": null,
            "top": null,
            "visibility": null,
            "width": null
          }
        },
        "ea2b274e112940bebf27b4e5608d3e80": {
          "model_module": "@jupyter-widgets/controls",
          "model_name": "SliderStyleModel",
          "model_module_version": "1.5.0",
          "state": {
            "_model_module": "@jupyter-widgets/controls",
            "_model_module_version": "1.5.0",
            "_model_name": "SliderStyleModel",
            "_view_count": null,
            "_view_module": "@jupyter-widgets/base",
            "_view_module_version": "1.2.0",
            "_view_name": "StyleView",
            "description_width": "",
            "handle_color": null
          }
        },
        "4aaed22a005b4f0599c9d01c2485ab00": {
          "model_module": "@jupyter-widgets/base",
          "model_name": "LayoutModel",
          "model_module_version": "1.2.0",
          "state": {
            "_model_module": "@jupyter-widgets/base",
            "_model_module_version": "1.2.0",
            "_model_name": "LayoutModel",
            "_view_count": null,
            "_view_module": "@jupyter-widgets/base",
            "_view_module_version": "1.2.0",
            "_view_name": "LayoutView",
            "align_content": null,
            "align_items": null,
            "align_self": null,
            "border": null,
            "bottom": null,
            "display": null,
            "flex": null,
            "flex_flow": null,
            "grid_area": null,
            "grid_auto_columns": null,
            "grid_auto_flow": null,
            "grid_auto_rows": null,
            "grid_column": null,
            "grid_gap": null,
            "grid_row": null,
            "grid_template_areas": null,
            "grid_template_columns": null,
            "grid_template_rows": null,
            "height": null,
            "justify_content": null,
            "justify_items": null,
            "left": null,
            "margin": null,
            "max_height": null,
            "max_width": null,
            "min_height": null,
            "min_width": null,
            "object_fit": null,
            "object_position": null,
            "order": null,
            "overflow": null,
            "overflow_x": null,
            "overflow_y": null,
            "padding": null,
            "right": null,
            "top": null,
            "visibility": null,
            "width": null
          }
        },
        "522b4527654642f4a7deb808c6274c6f": {
          "model_module": "@jupyter-widgets/controls",
          "model_name": "VBoxModel",
          "model_module_version": "1.5.0",
          "state": {
            "_dom_classes": [
              "widget-interact"
            ],
            "_model_module": "@jupyter-widgets/controls",
            "_model_module_version": "1.5.0",
            "_model_name": "VBoxModel",
            "_view_count": null,
            "_view_module": "@jupyter-widgets/controls",
            "_view_module_version": "1.5.0",
            "_view_name": "VBoxView",
            "box_style": "",
            "children": [
              "IPY_MODEL_5483ba2f68774737a00092a253e0a01b",
              "IPY_MODEL_83d003a70ecd41f49cdf494c6c32bd5c"
            ],
            "layout": "IPY_MODEL_07e56457dd6a4bf9bcd9de0b71eeadf9"
          }
        },
        "5483ba2f68774737a00092a253e0a01b": {
          "model_module": "@jupyter-widgets/controls",
          "model_name": "IntSliderModel",
          "model_module_version": "1.5.0",
          "state": {
            "_dom_classes": [],
            "_model_module": "@jupyter-widgets/controls",
            "_model_module_version": "1.5.0",
            "_model_name": "IntSliderModel",
            "_view_count": null,
            "_view_module": "@jupyter-widgets/controls",
            "_view_module_version": "1.5.0",
            "_view_name": "IntSliderView",
            "continuous_update": true,
            "description": "index",
            "description_tooltip": null,
            "disabled": false,
            "layout": "IPY_MODEL_1bf62105cf4f4790b1b4214490d61930",
            "max": 5,
            "min": 0,
            "orientation": "horizontal",
            "readout": true,
            "readout_format": "d",
            "step": 1,
            "style": "IPY_MODEL_17ae62d91b5f46b6919c99943e3c5338",
            "value": 0
          }
        },
        "83d003a70ecd41f49cdf494c6c32bd5c": {
          "model_module": "@jupyter-widgets/output",
          "model_name": "OutputModel",
          "model_module_version": "1.0.0",
          "state": {
            "_dom_classes": [],
            "_model_module": "@jupyter-widgets/output",
            "_model_module_version": "1.0.0",
            "_model_name": "OutputModel",
            "_view_count": null,
            "_view_module": "@jupyter-widgets/output",
            "_view_module_version": "1.0.0",
            "_view_name": "OutputView",
            "layout": "IPY_MODEL_b6a9113b8302494b88f821795aba30d8",
            "msg_id": "",
            "outputs": [
              {
                "output_type": "display_data",
                "data": {
                  "text/plain": "<Figure size 432x288 with 1 Axes>",
                  "image/png": "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\n"
                },
                "metadata": {
                  "needs_background": "light"
                }
              }
            ]
          }
        },
        "07e56457dd6a4bf9bcd9de0b71eeadf9": {
          "model_module": "@jupyter-widgets/base",
          "model_name": "LayoutModel",
          "model_module_version": "1.2.0",
          "state": {
            "_model_module": "@jupyter-widgets/base",
            "_model_module_version": "1.2.0",
            "_model_name": "LayoutModel",
            "_view_count": null,
            "_view_module": "@jupyter-widgets/base",
            "_view_module_version": "1.2.0",
            "_view_name": "LayoutView",
            "align_content": null,
            "align_items": null,
            "align_self": null,
            "border": null,
            "bottom": null,
            "display": null,
            "flex": null,
            "flex_flow": null,
            "grid_area": null,
            "grid_auto_columns": null,
            "grid_auto_flow": null,
            "grid_auto_rows": null,
            "grid_column": null,
            "grid_gap": null,
            "grid_row": null,
            "grid_template_areas": null,
            "grid_template_columns": null,
            "grid_template_rows": null,
            "height": null,
            "justify_content": null,
            "justify_items": null,
            "left": null,
            "margin": null,
            "max_height": null,
            "max_width": null,
            "min_height": null,
            "min_width": null,
            "object_fit": null,
            "object_position": null,
            "order": null,
            "overflow": null,
            "overflow_x": null,
            "overflow_y": null,
            "padding": null,
            "right": null,
            "top": null,
            "visibility": null,
            "width": null
          }
        },
        "1bf62105cf4f4790b1b4214490d61930": {
          "model_module": "@jupyter-widgets/base",
          "model_name": "LayoutModel",
          "model_module_version": "1.2.0",
          "state": {
            "_model_module": "@jupyter-widgets/base",
            "_model_module_version": "1.2.0",
            "_model_name": "LayoutModel",
            "_view_count": null,
            "_view_module": "@jupyter-widgets/base",
            "_view_module_version": "1.2.0",
            "_view_name": "LayoutView",
            "align_content": null,
            "align_items": null,
            "align_self": null,
            "border": null,
            "bottom": null,
            "display": null,
            "flex": null,
            "flex_flow": null,
            "grid_area": null,
            "grid_auto_columns": null,
            "grid_auto_flow": null,
            "grid_auto_rows": null,
            "grid_column": null,
            "grid_gap": null,
            "grid_row": null,
            "grid_template_areas": null,
            "grid_template_columns": null,
            "grid_template_rows": null,
            "height": null,
            "justify_content": null,
            "justify_items": null,
            "left": null,
            "margin": null,
            "max_height": null,
            "max_width": null,
            "min_height": null,
            "min_width": null,
            "object_fit": null,
            "object_position": null,
            "order": null,
            "overflow": null,
            "overflow_x": null,
            "overflow_y": null,
            "padding": null,
            "right": null,
            "top": null,
            "visibility": null,
            "width": null
          }
        },
        "17ae62d91b5f46b6919c99943e3c5338": {
          "model_module": "@jupyter-widgets/controls",
          "model_name": "SliderStyleModel",
          "model_module_version": "1.5.0",
          "state": {
            "_model_module": "@jupyter-widgets/controls",
            "_model_module_version": "1.5.0",
            "_model_name": "SliderStyleModel",
            "_view_count": null,
            "_view_module": "@jupyter-widgets/base",
            "_view_module_version": "1.2.0",
            "_view_name": "StyleView",
            "description_width": "",
            "handle_color": null
          }
        },
        "b6a9113b8302494b88f821795aba30d8": {
          "model_module": "@jupyter-widgets/base",
          "model_name": "LayoutModel",
          "model_module_version": "1.2.0",
          "state": {
            "_model_module": "@jupyter-widgets/base",
            "_model_module_version": "1.2.0",
            "_model_name": "LayoutModel",
            "_view_count": null,
            "_view_module": "@jupyter-widgets/base",
            "_view_module_version": "1.2.0",
            "_view_name": "LayoutView",
            "align_content": null,
            "align_items": null,
            "align_self": null,
            "border": null,
            "bottom": null,
            "display": null,
            "flex": null,
            "flex_flow": null,
            "grid_area": null,
            "grid_auto_columns": null,
            "grid_auto_flow": null,
            "grid_auto_rows": null,
            "grid_column": null,
            "grid_gap": null,
            "grid_row": null,
            "grid_template_areas": null,
            "grid_template_columns": null,
            "grid_template_rows": null,
            "height": null,
            "justify_content": null,
            "justify_items": null,
            "left": null,
            "margin": null,
            "max_height": null,
            "max_width": null,
            "min_height": null,
            "min_width": null,
            "object_fit": null,
            "object_position": null,
            "order": null,
            "overflow": null,
            "overflow_x": null,
            "overflow_y": null,
            "padding": null,
            "right": null,
            "top": null,
            "visibility": null,
            "width": null
          }
        }
      }
    }
  },
  "cells": [
    {
      "cell_type": "markdown",
      "metadata": {
        "id": "view-in-github",
        "colab_type": "text"
      },
      "source": [
        "<a href=\"https://colab.research.google.com/github/pierce-s/MAT-421/blob/main/Module_C.ipynb\" target=\"_parent\"><img src=\"https://colab.research.google.com/assets/colab-badge.svg\" alt=\"Open In Colab\"/></a>"
      ]
    },
    {
      "cell_type": "markdown",
      "source": [
        "Student: Pierce Sarmiento\n",
        "\n",
        "---"
      ],
      "metadata": {
        "id": "3XxRoTpratpc"
      }
    },
    {
      "cell_type": "markdown",
      "source": [
        "#**Module C** \n",
        "**Section 19.1:** Root Finding\n",
        "\n",
        "**Section 19.2:** Tolerance\n",
        "\n",
        "**Section 19.3:** Bisection Method\n",
        "\n",
        "**Section 19.4:** Newton-Raphson Method\n",
        "\n",
        "**Section 19.5:** Root Finding in Python\n",
        "\n",
        "---\n",
        "\n"
      ],
      "metadata": {
        "id": "8n_CHQ3oX3Vj"
      }
    },
    {
      "cell_type": "markdown",
      "source": [
        "###**Section 19.1 Root Finding**"
      ],
      "metadata": {
        "id": "AxlT-ej5Zfqx"
      }
    },
    {
      "cell_type": "markdown",
      "source": [
        "*Summary:* \n",
        "\n",
        "We often need to find the root of a function (the points where the function is zero). For many functions, we can figure this out analytically. However, this becomes more difficult depending on the function that we use. Thus, we can use numerical approximations to find the roots instead. There are some scenarios where this approach falls short, however.\n",
        "\n",
        "---\n",
        "\n",
        "\n",
        "\n"
      ],
      "metadata": {
        "id": "-JZ6QaRva9vL"
      }
    },
    {
      "cell_type": "markdown",
      "source": [
        "*Implementation:*\n",
        "\n",
        "Lets consider two scenarios, where we find the roots numerically. For the first scenario lets look at the function $f(x) = x^3 - x^2 + 2$. We can write a short script using the libraries `numpy`, `matplotlib`, and `scipy`. "
      ],
      "metadata": {
        "id": "2vC6enOldGam"
      }
    },
    {
      "cell_type": "code",
      "source": [
        "import numpy as np\n",
        "import matplotlib.pyplot as plt\n",
        "from scipy import optimize\n",
        "\n",
        "def f(x):\n",
        "    return x**3 - x**2 + 2\n",
        "\n",
        "solve = optimize.root(f, x0=1.5, method='hybr')\n",
        "root = solve.x[0]\n",
        "\n",
        "print(\"The root of f(x):\", root)"
      ],
      "metadata": {
        "colab": {
          "base_uri": "https://localhost:8080/"
        },
        "id": "xjjGJUc6-jax",
        "outputId": "e96e60c7-0497-4f1d-de26-e3365fbb6302"
      },
      "execution_count": null,
      "outputs": [
        {
          "output_type": "stream",
          "name": "stdout",
          "text": [
            "The root of f(x): -1.0\n"
          ]
        }
      ]
    },
    {
      "cell_type": "markdown",
      "source": [
        "Here we see using `optimize.root` that the root of $f(x)$ is $-1$. This function works by applying root finding methods to an initial guess.\n",
        "\n",
        "Let's look at the function graphically:"
      ],
      "metadata": {
        "id": "KSMB110--qKv"
      }
    },
    {
      "cell_type": "code",
      "source": [
        "fig, ax = plt.subplots()\n",
        "plt.axhline(y=0, color='k')\n",
        "plt.axvline(x=0, color='k')\n",
        "plt.xlabel('x')\n",
        "plt.ylabel('f(x)')\n",
        "plt.title('x**3 - x**2 + 2')\n",
        "\n",
        "x = np.linspace(-5, 5, 1000)\n",
        "ax.plot(x, f(x), color = 'c')\n",
        "\n",
        "ax.set_ylim(-3, 3)\n",
        "ax.set_xlim(-3, 3)\n",
        "\n",
        "#plot a point at the root\n",
        "plt.scatter(root, f(root), color='red')\n",
        "plt.annotate(f'Root at x = {root:.2f}', (root, 0), xytext=(-2, 2),\n",
        "             arrowprops=dict(arrowstyle='->', color='red'), color='red')\n",
        "\n",
        "plt.grid()"
      ],
      "metadata": {
        "colab": {
          "base_uri": "https://localhost:8080/",
          "height": 295
        },
        "id": "0QpyAkWP_cFL",
        "outputId": "5a6df64d-742b-4029-80bb-86d9f31beeda"
      },
      "execution_count": null,
      "outputs": [
        {
          "output_type": "display_data",
          "data": {
            "text/plain": [
              "<Figure size 432x288 with 1 Axes>"
            ],
            "image/png": "[encoded data removed]"
          },
          "metadata": {
            "needs_background": "light"
          }
        }
      ]
    },
    {
      "cell_type": "markdown",
      "source": [
        "We can see graphically that the function has one root. However, some functions have multiple roots. For the second scenario, lets look at the function $g(x) = x^3 - 3x^2 + x$"
      ],
      "metadata": {
        "id": "xBoxQcikAcoh"
      }
    },
    {
      "cell_type": "code",
      "source": [
        "def g(x):\n",
        "    return x**3 - 3*x*2 + x \n",
        "\n",
        "fig, ax = plt.subplots()\n",
        "plt.axhline(y=0, color='k')\n",
        "plt.axvline(x=0, color='k')\n",
        "plt.xlabel('x')\n",
        "plt.ylabel('g(x)')\n",
        "plt.title('x**2 - cos(x)')\n",
        "\n",
        "x = np.linspace(-5, 5, 1000) # scale the x-axis\n",
        "#plt.plot(x, g(x))\n",
        "ax.plot(x, g(x), color = 'c')\n",
        "\n",
        "ax.set_ylim(-8, 8)\n",
        "#ax.set_xlim(-5, 5)\n",
        "\n",
        "plt.grid()"
      ],
      "metadata": {
        "colab": {
          "base_uri": "https://localhost:8080/",
          "height": 295
        },
        "id": "LCSOFUm-Bfx0",
        "outputId": "d8244648-4012-4e9b-9074-cd0c17e284e6"
      },
      "execution_count": null,
      "outputs": [
        {
          "output_type": "display_data",
          "data": {
            "text/plain": [
              "<Figure size 432x288 with 1 Axes>"
            ],
            "image/png": "[encoded data removed]"
          },
          "metadata": {
            "needs_background": "light"
          }
        }
      ]
    },
    {
      "cell_type": "markdown",
      "source": [
        "In this case we have multiple roots, thus we have to adjust the initial guess when using `optimize.root` to find the roots."
      ],
      "metadata": {
        "id": "I6FKVNOGBMc_"
      }
    },
    {
      "cell_type": "code",
      "source": [
        "#Solve for the first root\n",
        "solve1 = optimize.root(g, x0=10, method='hybr')\n",
        "root1 = solve1.x[0]\n",
        "\n",
        "#solve for the second root\n",
        "solve2 = optimize.root(g, x0=-10, method='hybr')\n",
        "root2 = solve2.x[0]\n",
        "\n",
        "fig, ax = plt.subplots()\n",
        "plt.axhline(y=0, color='k')\n",
        "plt.axvline(x=0, color='k')\n",
        "plt.xlabel('x')\n",
        "plt.ylabel('g(x)')\n",
        "plt.title('x**2 - cos(x)')\n",
        "\n",
        "x = np.linspace(-5, 5, 1000)\n",
        "\n",
        "ax.plot(x, g(x), color = 'c')\n",
        "\n",
        "ax.set_ylim(-8, 8)\n",
        "\n",
        "#plot both roots\n",
        "plt.scatter(root2, g(root2), color='blue')\n",
        "plt.annotate(f'Root 1 = {root2:.2f}', (root2, 0), xytext=(-5, 5),\n",
        "             arrowprops=dict(arrowstyle='->', color='blue'), color='blue')\n",
        "plt.scatter(root1, g(root1), color='red')\n",
        "plt.annotate(f'Root 2 = {root1:.2f}', (root1, 0), xytext=(0, 5),\n",
        "             arrowprops=dict(arrowstyle='->', color='red'), color='red')\n",
        "\n",
        "plt.grid()\n",
        "plt.show()\n",
        "print(\"Root 1 for g(x):\", root1)\n",
        "print(\"Root 2 for g(x):\", root2)"
      ],
      "metadata": {
        "colab": {
          "base_uri": "https://localhost:8080/",
          "height": 330
        },
        "id": "NJIEYOeXDKvy",
        "outputId": "9ed2e397-8b30-4d1d-c4ce-5f918a7519bf"
      },
      "execution_count": null,
      "outputs": [
        {
          "output_type": "display_data",
          "data": {
            "text/plain": [
              "<Figure size 432x288 with 1 Axes>"
            ],
            "image/png": "[encoded data removed]"
          },
          "metadata": {
            "needs_background": "light"
          }
        },
        {
          "output_type": "stream",
          "name": "stdout",
          "text": [
            "Root 1 for g(x): 2.2360679774997902\n",
            "Root 2 for g(x): -2.2360679774997902\n"
          ]
        }
      ]
    },
    {
      "cell_type": "markdown",
      "source": [
        "By adjusting our initial guess `x0` we can use the numerical approach to find two of the roots. Graphically, we see that the last root is at $x=0$."
      ],
      "metadata": {
        "id": "MbNnPW9REte3"
      }
    },
    {
      "cell_type": "markdown",
      "source": [
        "---\n",
        "\n",
        "###**Section 19.2 Tolerance**\n",
        "\n",
        "\n"
      ],
      "metadata": {
        "id": "0DaYj3EeFQ8o"
      }
    },
    {
      "cell_type": "markdown",
      "source": [
        "*Summary:* \n",
        "\n",
        "When computing roots we take into consideration the error, which is the difference between the exact or expected root and what we compute. The threshold that we deem to be acceptable is called tolerance. When the error is less than the tolerance, we have converged to a solution.\n",
        "\n",
        "---\n",
        "\n",
        "\n",
        "\n"
      ],
      "metadata": {
        "id": "Khto6TRDFlk4"
      }
    },
    {
      "cell_type": "markdown",
      "source": [
        "*Implementation:* \n",
        "\n",
        "Since `scipy.optimize.root` uses a numerical approach and `np.roots` is based on an analytical method involving eigenvectors, we can use these two methods to calculate error. Let's consider the function $f(x) = x^3 - 2x^2 + 2$."
      ],
      "metadata": {
        "id": "yirYbJbaFonn"
      }
    },
    {
      "cell_type": "code",
      "source": [
        "import numpy as np\n",
        "from scipy.optimize import root\n",
        "\n",
        "def f(x):\n",
        "    return x**3 - 2*x**2 + 2\n",
        "\n",
        "tolerance = 1e-13\n",
        "\n",
        "#scipy\n",
        "result1 = root(f, x0=-1.5, method='hybr')\n",
        "result1 = result1.x[0]\n",
        "\n",
        "#numpy\n",
        "coeff = [1,-2,0,2]\n",
        "result2 = np.roots(coeff)\n",
        "result2 = np.real(result2[2])\n",
        "\n",
        "error = abs(result2 - result1) / abs(result2)\n",
        "print(f\"Result1 {result1} \\nResult2 {result2} \\nabsolute error: {error}\")\n",
        "print(f\"{'Within tolerance' if error < tolerance else 'Not within tolerance'}\")\n"
      ],
      "metadata": {
        "colab": {
          "base_uri": "https://localhost:8080/"
        },
        "id": "3TfAceibOTJz",
        "outputId": "5d438e4f-bdcb-4cf6-f3fd-cb084fb00b62"
      },
      "execution_count": null,
      "outputs": [
        {
          "output_type": "stream",
          "name": "stdout",
          "text": [
            "Result1 -0.8392867552141696 \n",
            "Result2 -0.8392867552141612 \n",
            "absolute error: 1.0053411345682608e-14\n",
            "Within tolerance\n"
          ]
        }
      ]
    },
    {
      "cell_type": "markdown",
      "source": [
        "From this example we can see that the numerical method would be acceptable within a tolerance defined by $\\text{absolute error} < 1 * 10^{-13}$\n"
      ],
      "metadata": {
        "id": "D6dLs05dPDos"
      }
    },
    {
      "cell_type": "markdown",
      "source": [
        "---\n",
        "\n",
        "###**Section 19.3 Bisection Method**\n",
        "\n",
        "\n"
      ],
      "metadata": {
        "id": "B3aQU-HORQ34"
      }
    },
    {
      "cell_type": "markdown",
      "source": [
        "*Summary:* \n",
        "\n",
        "The bisection method is an implementation using the intermediate value theorem. Essentially, if a function is continuous and we have to function values with opposite signs, the root is somewhere inbetween those function values. The midpoint between those two values will either be the root, positive, or negative. If the midpoint is not the root, is closer to the root than our previous function values. We can use this information to close in on the actual root.\n",
        "\n",
        "\n",
        "---\n",
        "\n",
        "\n",
        "\n"
      ],
      "metadata": {
        "id": "qJTJpMn3KIoC"
      }
    },
    {
      "cell_type": "markdown",
      "source": [
        "*Implementation:* \n",
        "\n",
        "We can illustrate how the bisection method works by plotting each $f(a)$, $f(b)$, and $f(m)$, where $m$ is the midpoint between $a$ and $b$. I wrote a script which tracks the index of each recursion of `my_bisection`."
      ],
      "metadata": {
        "id": "W9sVEXf9S-Cm"
      }
    },
    {
      "cell_type": "code",
      "source": [
        "import numpy as np\n",
        "import matplotlib.pyplot as plt\n",
        "from ipywidgets import interact\n",
        "\n",
        "def f(x):\n",
        "    return x**2 - 2\n",
        "\n",
        "def my_bisection(f, a, b, tol, plots):\n",
        "\n",
        "    sign1 = (f(a) < 0)\n",
        "    sign2 = (f(b) < 0)\n",
        "\n",
        "    if sign1 == sign2:\n",
        "        print(f\"f(a) = {f(a)} and f(b) = {f(b)} have the same sign.\")\n",
        "        return\n",
        "\n",
        "    m = (a + b) / 2\n",
        "\n",
        "    plots.append((a,b,m))\n",
        "\n",
        "    sign3 = (f(m) < 0)\n",
        "    if abs(f(m)) < tol:\n",
        "        return m\n",
        "\n",
        "    elif sign1 == sign3:\n",
        "        return my_bisection(f, m, b, tol, plots)\n",
        "\n",
        "    elif sign2 == sign3:\n",
        "        return my_bisection(f, a, m, tol, plots)\n",
        "\n",
        "\n",
        "def plot_bisection(f, a, b, tol):\n",
        "    plots = []\n",
        "    r = my_bisection(f, a, b, tol, plots)\n",
        "    print(f\"root : {r}\")\n",
        "    \n",
        "    x = np.linspace(a, b, 1000)\n",
        "    \n",
        "    \n",
        "    def show_plot(index):\n",
        "        plot = plots[index]\n",
        "        fig, ax = plt.subplots()\n",
        "        ax.plot(x, f(x), label=\"f(x)\")\n",
        "        ax.axvline(x=plot[0], color=\"green\", label=\"f(a)\")\n",
        "        ax.axvline(x=plot[1], color=\"blue\", label=\"f(b)\")\n",
        "        ax.axvline(x=plot[2], color=\"red\", label=\"f(m)\")\n",
        "\n",
        "        ax.axvline(x=0, color=\"black\")\n",
        "        ax.axhline(y=0, color=\"black\")\n",
        "        \n",
        "        a, b, m = plot[0],plot[1],plot[2]\n",
        "        \n",
        "        ax.annotate(f\"a = {a}\", (0.5, 1.75),\n",
        "                xytext=(0, 5),\n",
        "                textcoords='offset points',)\n",
        "        ax.annotate(f\"b = {b}\", (0.5, 1.5),\n",
        "                xytext=(0, 5),\n",
        "                textcoords='offset points',)\n",
        "        \n",
        "        ax.annotate(f\"m = {m}\", (0.5, 1.25),\n",
        "                xytext=(0, 5),\n",
        "                textcoords='offset points',)\n",
        "        ax.legend()\n",
        "        plt.show()\n",
        "        \n",
        "    \n",
        "    interact(show_plot, index=(0, len(plots) - 1))\n",
        "\n",
        "a, b, tol = 0, 2, 1e-2    \n",
        "plot_bisection(f, a, b, tol)        \n",
        "  "
      ],
      "metadata": {
        "colab": {
          "base_uri": "https://localhost:8080/",
          "height": 314,
          "referenced_widgets": [
            "9138f619bd7544f29b9e6a5fb5e7a3c2",
            "3c681d7ff76e4bf09d33063994422e96",
            "4214a60749974835bbb879c319206875",
            "aa5e9379fc0a4ac896b3377513a8bf2d",
            "9313b07572914dd7a2393b249b4e42c9",
            "ea2b274e112940bebf27b4e5608d3e80",
            "4aaed22a005b4f0599c9d01c2485ab00"
          ]
        },
        "id": "si-oywz4SjPU",
        "outputId": "33b463d6-acdb-4fc2-8e90-b65d9049951e"
      },
      "execution_count": 29,
      "outputs": [
        {
          "output_type": "stream",
          "name": "stdout",
          "text": [
            "root : 1.4140625\n"
          ]
        },
        {
          "output_type": "display_data",
          "data": {
            "text/plain": [
              "interactive(children=(IntSlider(value=3, description='index', max=7), Output()), _dom_classes=('widget-interac…"
            ],
            "application/vnd.jupyter.widget-view+json": {
              "version_major": 2,
              "version_minor": 0,
              "model_id": "9138f619bd7544f29b9e6a5fb5e7a3c2"
            }
          },
          "metadata": {}
        }
      ]
    },
    {
      "cell_type": "markdown",
      "source": [
        "By adjusting the slider for `index` we can see how the bisection method converges to the root at $x = \\sqrt{2}$."
      ],
      "metadata": {
        "id": "nPf1PJC4TrEI"
      }
    },
    {
      "cell_type": "markdown",
      "source": [
        "---\n",
        "\n",
        "###**Section 19.4 Newton-Raphson Method**\n",
        "\n",
        "\n",
        "\n"
      ],
      "metadata": {
        "id": "ZnwkB7beWOOM"
      }
    },
    {
      "cell_type": "markdown",
      "source": [
        "*Summary:* \n",
        "\n",
        "The Newton-Raphson method instead uses tangential lines to find the approximate root of a function. By using an initial guess for the root, we can use a linear approximation of the function at the guessing point. The line that is tangent to the curve will intersect the x-axis, which becomes the new guess. After the iteration, if we are within the tolerance, we have found a solution.\n",
        "\n",
        "\n",
        "---\n",
        "\n"
      ],
      "metadata": {
        "id": "w_jF59MiYn_M"
      }
    },
    {
      "cell_type": "markdown",
      "source": [
        "*Implementation:* \n",
        "\n",
        "We can write a similar script as before, but this time applying the Newton-Raphson Method."
      ],
      "metadata": {
        "id": "sObmdtZXa3vc"
      }
    },
    {
      "cell_type": "code",
      "source": [
        "import numpy as np\n",
        "import matplotlib.pyplot as plt\n",
        "from ipywidgets import interact\n",
        "\n",
        "def f(x):\n",
        "    return x**2 - 2\n",
        "\n",
        "def df(x):\n",
        "    return 2*x\n",
        "\n",
        "def my_newton(f, df, x, tol, plots):\n",
        "    plots.append(x)\n",
        "    x_new = x - f(x)/df(x)\n",
        "    if abs(x_new - x) < tol:\n",
        "        return x_new\n",
        "\n",
        "    return my_newton(f, df, x_new, tol, plots)\n",
        "\n",
        "def plot_newton(f, df, x, tol):\n",
        "    plots = []\n",
        "    r = my_newton(f, df, x, tol, plots)\n",
        "    print(f\"root : {r}\")\n",
        "    \n",
        "    x_ = np.linspace(0, 2, 1000)\n",
        "    \n",
        "\n",
        "    def show_plot(index):\n",
        "        x = plots[index]\n",
        "        fig, ax = plt.subplots()\n",
        "        ax.plot(x_, f(x_), label=\"f(x)\")\n",
        "        ax.axvline(x=x, color=\"red\", label=\"x_i\")\n",
        "\n",
        "        ax.annotate(f\"x_i = {x}\", (0.5, 1.25),\n",
        "                xytext=(0, 5),\n",
        "                textcoords='offset points',)\n",
        "        \n",
        "        ax.axvline(x=0, color=\"black\")\n",
        "        ax.axhline(y=0, color=\"black\")\n",
        "        \n",
        "        ax.legend()\n",
        "        plt.show()\n",
        "        \n",
        "    interact(show_plot, index=(0, len(plots) - 1))\n",
        "\n",
        "x, tol = 1, 1e-12    \n",
        "\n",
        "plot_newton(f, df, x, tol) "
      ],
      "metadata": {
        "colab": {
          "base_uri": "https://localhost:8080/",
          "height": 314,
          "referenced_widgets": [
            "522b4527654642f4a7deb808c6274c6f",
            "5483ba2f68774737a00092a253e0a01b",
            "83d003a70ecd41f49cdf494c6c32bd5c",
            "07e56457dd6a4bf9bcd9de0b71eeadf9",
            "1bf62105cf4f4790b1b4214490d61930",
            "17ae62d91b5f46b6919c99943e3c5338",
            "b6a9113b8302494b88f821795aba30d8"
          ]
        },
        "id": "Vh0vdNPLWUQ7",
        "outputId": "ffb4f76b-dd23-4517-ca6b-4aa4be4f8ff5"
      },
      "execution_count": 34,
      "outputs": [
        {
          "output_type": "stream",
          "name": "stdout",
          "text": [
            "root : 1.414213562373095\n"
          ]
        },
        {
          "output_type": "display_data",
          "data": {
            "text/plain": [
              "interactive(children=(IntSlider(value=2, description='index', max=5), Output()), _dom_classes=('widget-interac…"
            ],
            "application/vnd.jupyter.widget-view+json": {
              "version_major": 2,
              "version_minor": 0,
              "model_id": "522b4527654642f4a7deb808c6274c6f"
            }
          },
          "metadata": {}
        }
      ]
    },
    {
      "cell_type": "markdown",
      "source": [
        "For the given function, this method outperformed the bisection method. By the fifth index the error defined by $\\vert x_i - x \\vert$ was less than a tolerance of $1 * 10^{-12}$."
      ],
      "metadata": {
        "id": "-v_3bvwRbGRW"
      }
    },
    {
      "cell_type": "markdown",
      "source": [
        "---\n",
        "\n",
        "###**Section 19.5 Root Finding in Python**\n",
        "\n",
        "\n",
        "\n"
      ],
      "metadata": {
        "id": "8L8NWT61bxJ9"
      }
    },
    {
      "cell_type": "markdown",
      "source": [
        "*Conclusion:* \n",
        "\n",
        "In this module, we discussed the uses of root finding as a numerical method. Python offers a variety of options for root finding due to the plethora of built-in libraries. The `scipy` and `numpy` libraries were used in the scope of the scripts I have written here. We use these numerical approaches when an analytical approach may be more difficult or inconvenient. These approaches offer approximate solutions, where the acceptable error is below a set tolerance. Each method, including an analytical approach, has advantages and disadvantages."
      ],
      "metadata": {
        "id": "r16IkoM9b2sm"
      }
    }
  ]
}