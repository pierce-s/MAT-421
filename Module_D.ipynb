{
  "nbformat": 4,
  "nbformat_minor": 0,
  "metadata": {
    "colab": {
      "provenance": [],
      "collapsed_sections": [
        "AxlT-ej5Zfqx"
      ],
      "authorship_tag": "ABX9TyP/YwIw3SaGRFJdJIrmW/oR",
      "include_colab_link": true
    },
    "kernelspec": {
      "name": "python3",
      "display_name": "Python 3"
    },
    "language_info": {
      "name": "python"
    }
  },
  "cells": [
    {
      "cell_type": "markdown",
      "metadata": {
        "id": "view-in-github",
        "colab_type": "text"
      },
      "source": [
        "<a href=\"https://colab.research.google.com/github/pierce-s/MAT-421/blob/main/Module_D.ipynb\" target=\"_parent\"><img src=\"https://colab.research.google.com/assets/colab-badge.svg\" alt=\"Open In Colab\"/></a>"
      ]
    },
    {
      "cell_type": "markdown",
      "source": [
        "Student: Pierce Sarmiento\n",
        "\n",
        "---"
      ],
      "metadata": {
        "id": "3XxRoTpratpc"
      }
    },
    {
      "cell_type": "markdown",
      "source": [
        "#**Module D** \n",
        "**Section 1.1:** Linear Algebra\n",
        "\n",
        "**Section 1.2:** Elements of Linear Algebra\n",
        "\n",
        "**Section 1.3:** Linear Regression\n",
        "\n",
        "\n",
        "\n",
        "---\n",
        "\n"
      ],
      "metadata": {
        "id": "8n_CHQ3oX3Vj"
      }
    },
    {
      "cell_type": "markdown",
      "source": [
        "###**Section 1.1 Linear Algebra**"
      ],
      "metadata": {
        "id": "AxlT-ej5Zfqx"
      }
    },
    {
      "cell_type": "markdown",
      "source": [
        "*Summary:* \n",
        "\n",
        "Linear algebra is a mathematical discipline that has applications in data science as well as machine learning. Many algorithms in these fields are built upon an understanding of linear algebra. A popular Python library `numpy` is often used for these types of computations. It has many tools for dealing with operations related to linear algebra and manipulating matrices.\n",
        "\n",
        "---\n"
      ],
      "metadata": {
        "id": "-JZ6QaRva9vL"
      }
    },
    {
      "cell_type": "markdown",
      "source": [
        "*Implementation:*\n",
        "\n",
        "Consider that we may want to work with a matrix such as this:\n",
        "\n",
        "$\\begin{bmatrix}\n",
        "1 & 2 & 3 \\\\\n",
        "4 & 5 & 6 \\\\\n",
        "7 & 8 & 9 \\\\\n",
        "\\end{bmatrix}$\n",
        "\n",
        "We can use numpy to represent such a matrix:\n"
      ],
      "metadata": {
        "id": "2vC6enOldGam"
      }
    },
    {
      "cell_type": "code",
      "source": [
        "import numpy as np\n",
        "\n",
        "# Define a matrix using a numpy\n",
        "matrix = np.array([[1, 2, 3], [4, 5, 6], [7, 8, 9]])\n",
        "\n",
        "print(matrix)"
      ],
      "metadata": {
        "colab": {
          "base_uri": "https://localhost:8080/"
        },
        "id": "PxNsppnpqm5m",
        "outputId": "78d9a71f-e555-4801-dda5-5e4595bb892c"
      },
      "execution_count": 2,
      "outputs": [
        {
          "output_type": "stream",
          "name": "stdout",
          "text": [
            "[[1 2 3]\n",
            " [4 5 6]\n",
            " [7 8 9]]\n"
          ]
        }
      ]
    },
    {
      "cell_type": "markdown",
      "source": [
        "With `numpy` we can use regular operations such as addition with two `np.array` objects. This is because Python allows for customization of `dunder` (double underscore) methods, for which the `__add__` method has been modified.\n",
        "\n",
        "Consider:\n",
        "$\\begin{bmatrix}\n",
        "1 & 2 & 3 \\\\\n",
        "4 & 5 & 6 \\\\\n",
        "7 & 8 & 9 \\\\\n",
        "\\end{bmatrix} + \\begin{bmatrix}\n",
        "1 & 0 & 0 \\\\\n",
        "0 & 1 & 0 \\\\\n",
        "0 & 0 & 1 \\\\\n",
        "\\end{bmatrix}$\n"
      ],
      "metadata": {
        "id": "TvieSsTQqz02"
      }
    },
    {
      "cell_type": "code",
      "source": [
        "# Define a matrix using a numpy\n",
        "matrix1 = np.array([[1, 2, 3], [4, 5, 6], [7, 8, 9]])\n",
        "matrix2 = np.array([[1, 0, 0], [0, 1, 0], [0, 0, 1]])\n",
        "solution = matrix1 + matrix2\n",
        "print(f\"{matrix1}\\n + \\n{matrix2}\\n= \\n{solution}\")"
      ],
      "metadata": {
        "colab": {
          "base_uri": "https://localhost:8080/"
        },
        "id": "kPP_pcGOrxL1",
        "outputId": "551e4779-a23d-4af6-f197-eefbd2c2c092"
      },
      "execution_count": 9,
      "outputs": [
        {
          "output_type": "stream",
          "name": "stdout",
          "text": [
            "[[1 2 3]\n",
            " [4 5 6]\n",
            " [7 8 9]]\n",
            " + \n",
            "[[1 0 0]\n",
            " [0 1 0]\n",
            " [0 0 1]]\n",
            "= \n",
            "[[ 2  2  3]\n",
            " [ 4  6  6]\n",
            " [ 7  8 10]]\n"
          ]
        }
      ]
    },
    {
      "cell_type": "markdown",
      "source": [
        "Similarly we can do scalar multiplication:\n",
        "\n",
        "$2⋅\\begin{bmatrix}\n",
        "1 & 2 & 3 \\\\\n",
        "4 & 5 & 6 \\\\\n",
        "7 & 8 & 9 \\\\\n",
        "\\end{bmatrix}$"
      ],
      "metadata": {
        "id": "IZyk55nzsjW2"
      }
    },
    {
      "cell_type": "code",
      "source": [
        "# Define a matrix using a numpy\n",
        "matrix = np.array([[1, 2, 3], [4, 5, 6], [7, 8, 9]])\n",
        "print(2*matrix)"
      ],
      "metadata": {
        "colab": {
          "base_uri": "https://localhost:8080/"
        },
        "id": "kGqDiLUcsmxW",
        "outputId": "ba62d358-3381-4c6f-a1c2-a46260f98a63"
      },
      "execution_count": 10,
      "outputs": [
        {
          "output_type": "stream",
          "name": "stdout",
          "text": [
            "[[ 2  4  6]\n",
            " [ 8 10 12]\n",
            " [14 16 18]]\n"
          ]
        }
      ]
    },
    {
      "cell_type": "markdown",
      "source": [
        "\n",
        "---\n",
        "\n",
        "\n",
        "###**Section 1.2 Elements of Linear Algebra**"
      ],
      "metadata": {
        "id": "0DL6tMLJs4m_"
      }
    },
    {
      "cell_type": "markdown",
      "source": [
        "*Summary:* \n",
        "\n",
        "The above building blocks allow for computations involving linear combinations. Along with this basic functionality, `numpy` also allows us to perform more advanced linear algebra operations, such as:\n",
        "\n",
        "*    Finding a dot product: `np.dot`\n",
        "*    Finding eigenvalues/eigenvectors: `np.linalg.eig`\n",
        "\n",
        "These are just some of the many functions, as the library is very robust.\n",
        "\n",
        "\n",
        "---\n"
      ],
      "metadata": {
        "id": "F1AASjIutHCT"
      }
    },
    {
      "cell_type": "markdown",
      "source": [
        "*Implementation:*\n",
        "\n",
        "Dot product:\n",
        "\n",
        "$\\begin{bmatrix}\n",
        "1 & 2\\\\\n",
        "3 & 4\\\\\n",
        "\\end{bmatrix} \\cdot \\begin{bmatrix}\n",
        "5 & 6\\\\\n",
        "7 & 8\\\\\n",
        "\\end{bmatrix}$"
      ],
      "metadata": {
        "id": "BVpfkoA5wPqE"
      }
    },
    {
      "cell_type": "code",
      "source": [
        "# Define two 2x2 matrices\n",
        "A = np.array([[1, 2], [3, 4]])\n",
        "B = np.array([[5, 6], [7, 8]])\n",
        "\n",
        "# Calculate the dot product of the matrices\n",
        "C = np.dot(A, B)\n",
        "\n",
        "print(C)"
      ],
      "metadata": {
        "colab": {
          "base_uri": "https://localhost:8080/"
        },
        "id": "hiwb0iHHwUCM",
        "outputId": "f3d56689-322f-4126-b6a4-26f5d421f812"
      },
      "execution_count": 11,
      "outputs": [
        {
          "output_type": "stream",
          "name": "stdout",
          "text": [
            "[[19 22]\n",
            " [43 50]]\n"
          ]
        }
      ]
    },
    {
      "cell_type": "markdown",
      "source": [
        "Orthogonality:\n",
        "\n",
        "$\\begin{bmatrix}\n",
        "1 & 0 & 1\\\\\n",
        "\\end{bmatrix} \\text{and}\n",
        "\\begin{bmatrix}\n",
        "0 & 1 & 0\\\\\n",
        "\\end{bmatrix}$ are orthogonal if their dot product equals $0$.\n",
        "\n",
        "Similarly, $\\begin{bmatrix}\n",
        "1 & 0 & 1\\\\\n",
        "\\end{bmatrix} \\text{and}\n",
        "\\begin{bmatrix}\n",
        "1 & 1 & 1\\\\\n",
        "\\end{bmatrix}$ are orthogonal if their dot product equals $0$.\n",
        "\n",
        "Let's use `np.dot` to find the solution:"
      ],
      "metadata": {
        "id": "r_pDZ6obxmNy"
      }
    },
    {
      "cell_type": "code",
      "source": [
        "# Define two vectors\n",
        "v1 = np.array([1, 0, 1])\n",
        "v2 = np.array([0, 1, 0])\n",
        "\n",
        "# Calculate the dot product of the vectors\n",
        "dot_product = np.dot(v1, v2)\n",
        "\n",
        "print(f\"The vectors {v1} and {v2} are {'not ' if dot_product else ''}orthogonal .\")\n",
        "\n",
        "# Define two vectors\n",
        "v3 = np.array([1, 0, 1])\n",
        "v4 = np.array([1, 1, 1])\n",
        "\n",
        "# Calculate the dot product of the vectors\n",
        "dot_product2 = np.dot(v3, v4)\n",
        "\n",
        "print(f\"The vectors {v3} and {v4} are {'not ' if dot_product2 else ''}orthogonal .\")\n"
      ],
      "metadata": {
        "colab": {
          "base_uri": "https://localhost:8080/"
        },
        "id": "sWPIYAsRy7j5",
        "outputId": "12565361-d4ab-422d-beaf-03aadcbd9e12"
      },
      "execution_count": 25,
      "outputs": [
        {
          "output_type": "stream",
          "name": "stdout",
          "text": [
            "The vectors [1 0 1] and [0 1 0] are orthogonal .\n",
            "The vectors [1 0 1] and [1 1 1] are not orthogonal .\n"
          ]
        }
      ]
    },
    {
      "cell_type": "markdown",
      "source": [
        "Eigenvalues:\n",
        "\n",
        "Let $\\mathbf{A} = \n",
        "\\begin{bmatrix}\n",
        "0 & 1\\\\\n",
        "-2 & -3\\\\\n",
        "\\end{bmatrix}$\n",
        "\n",
        "If we needed to find the eigenvalues for A:\n",
        "\n",
        "$\\vert\\mathbf{A}-\\lambda \\mathbf{I}\\vert =\n",
        "\\det\\begin{bmatrix}\n",
        "0 & 1\\\\\n",
        "-2 & -3\\\\\n",
        "\\end{bmatrix} - \\begin{bmatrix}\n",
        "\\lambda & 0\\\\\n",
        "0 & \\lambda\\\\\n",
        "\\end{bmatrix}$\n",
        "\n",
        "$= \\det\\begin{bmatrix}\n",
        "-\\lambda & 1\\\\\n",
        "-2 & -(3 + \\lambda)\\\\\n",
        "\\end{bmatrix}$\n",
        "\n",
        "$= \\lambda^2 + 3\\lambda + 2 = 0$\n",
        "\n",
        "$\\lambda = \\frac{-3 \\pm \\sqrt{9 - 8}}{2} = \\frac{-3 \\pm 1}{2} = -1, -2$"
      ],
      "metadata": {
        "id": "L_0jCb_10B2M"
      }
    },
    {
      "cell_type": "markdown",
      "source": [
        "Using `numpy` we can simply use `np.linalg.eig`:"
      ],
      "metadata": {
        "id": "CWQE-Fjg23RF"
      }
    },
    {
      "cell_type": "code",
      "source": [
        "# Define a 2x2 matrix\n",
        "A = np.array([[0, 1], [-2, -3]])\n",
        "\n",
        "# Find the eigenvalues of the matrix\n",
        "eigenvalues, eigenvectors = np.linalg.eig(A)\n",
        "\n",
        "print(eigenvalues)"
      ],
      "metadata": {
        "colab": {
          "base_uri": "https://localhost:8080/"
        },
        "id": "UseZVMvf2MSX",
        "outputId": "8ee04a9d-9fa8-4e5b-f5f1-4e6e6f57c900"
      },
      "execution_count": 26,
      "outputs": [
        {
          "output_type": "stream",
          "name": "stdout",
          "text": [
            "[-1. -2.]\n"
          ]
        }
      ]
    },
    {
      "cell_type": "markdown",
      "source": [
        "And the corresponding eigenvectors:"
      ],
      "metadata": {
        "id": "J7vK1vnk4xVZ"
      }
    },
    {
      "cell_type": "code",
      "source": [
        "print(eigenvectors)"
      ],
      "metadata": {
        "colab": {
          "base_uri": "https://localhost:8080/"
        },
        "id": "Tqt1sug5409C",
        "outputId": "6d98b96b-bc1b-40cc-c56f-5a556eb685ea"
      },
      "execution_count": 28,
      "outputs": [
        {
          "output_type": "stream",
          "name": "stdout",
          "text": [
            "[[ 0.70710678 -0.4472136 ]\n",
            " [-0.70710678  0.89442719]]\n"
          ]
        }
      ]
    },
    {
      "cell_type": "markdown",
      "source": [
        "\n",
        "---\n",
        "\n",
        "\n",
        "###**Section 1.3 Linear Regression**"
      ],
      "metadata": {
        "id": "wV9I9anw52RI"
      }
    },
    {
      "cell_type": "markdown",
      "source": [
        "*Summary:*\n",
        "\n",
        "QR decomposition allows us to \"decompose\" a matrix into an orthogonal matrix and an upper triangular matrix. This is useful for solving linear systems, eigenvalues, and least squares approximations.\n",
        "\n",
        "Linear regression is a statistical model for finding the relationship between variables. It is one method for finding a line of best fit for a set of data points. This can be a minimization problem involving a system of linear equations. \n",
        "\n",
        "\n",
        "---\n",
        "\n"
      ],
      "metadata": {
        "id": "3dG4JbLH57Rw"
      }
    },
    {
      "cell_type": "markdown",
      "source": [
        "*Implementation:*\n",
        "\n",
        "QR decomposition:\n",
        "\n",
        "Consider the following system:\n",
        "\n",
        "$\\begin{bmatrix}\n",
        "1 & 2\\\\\n",
        "4 & 5\\\\\n",
        "7 & 8\\\\\n",
        "\\end{bmatrix}x =\n",
        "\\begin{bmatrix}\n",
        "3\\\\\n",
        "6\\\\\n",
        "9\\\\\n",
        "\\end{bmatrix}$\n",
        "\n",
        "We can use QR decomposition within `numpy` to solve such a system.\n",
        "\n"
      ],
      "metadata": {
        "id": "z9DJzTK58DLB"
      }
    },
    {
      "cell_type": "code",
      "source": [
        "A = np.array([[1,4,7],[2,5,8]]).T\n",
        "\n",
        "Q, R = np.linalg.qr(A)\n",
        "B = np.array([3,6,9])\n",
        "\n",
        "solution = np.linalg.solve(R,Q.T @ B)\n",
        "print(f\"x = {solution}\")"
      ],
      "metadata": {
        "colab": {
          "base_uri": "https://localhost:8080/"
        },
        "id": "f29Dfs6MCxCM",
        "outputId": "3eab6199-88c6-42a5-e2cb-6906861e3e58"
      },
      "execution_count": 68,
      "outputs": [
        {
          "output_type": "stream",
          "name": "stdout",
          "text": [
            "x = [-1.  2.]\n"
          ]
        }
      ]
    },
    {
      "cell_type": "markdown",
      "source": [
        "Let's verify that $\\mathbf{A}x = B$"
      ],
      "metadata": {
        "id": "x_XtJCHYE0cG"
      }
    },
    {
      "cell_type": "code",
      "source": [
        "result = np.matmul(A, solution)\n",
        "print(f\"B = {[round(t) for t in result]}\")\n"
      ],
      "metadata": {
        "colab": {
          "base_uri": "https://localhost:8080/"
        },
        "id": "6qTTDW8E78Lz",
        "outputId": "b6cf71dd-3f7e-46d9-d9b2-12cfd2caef8c"
      },
      "execution_count": 69,
      "outputs": [
        {
          "output_type": "stream",
          "name": "stdout",
          "text": [
            "B = [3, 6, 9]\n"
          ]
        }
      ]
    },
    {
      "cell_type": "markdown",
      "source": [
        "Linear Regression:\n",
        "\n",
        "Using `numpy` we can generate a simple dataset:"
      ],
      "metadata": {
        "id": "U_EMoEwLK8cT"
      }
    },
    {
      "cell_type": "code",
      "source": [
        "# Dataset\n",
        "np.random.seed(42)\n",
        "x = np.linspace(0, 10, 100).reshape(-1, 1)\n",
        "y = 2 * x + 1 + 2 * np.random.randn(100, 1)"
      ],
      "metadata": {
        "id": "UcjRwvxyLQqr"
      },
      "execution_count": 71,
      "outputs": []
    },
    {
      "cell_type": "markdown",
      "source": [
        "Here we generate 100 datapoints for $x$ from 0 to 10. We add noise to the y-value of each data point but also make sure that it follows a linear trend. \n",
        "\n",
        "Next we can write a fit function which minimizes the sum of the squared differences between the predicted and actual values. To do this we use the linear regression closed-form solution formula for $\\beta$:"
      ],
      "metadata": {
        "id": "ZTaJaD6NLcJG"
      }
    },
    {
      "cell_type": "code",
      "source": [
        "def fit_affine(x, y):\n",
        "    # Add a column of ones to x\n",
        "    ones = np.ones((x.shape[0], 1))\n",
        "    x = np.hstack((ones, x))\n",
        "    \n",
        "    # Calculate the coefficients beta using the formula beta = (A^T A)^(-1) A^T y\n",
        "    AT = np.transpose(x)\n",
        "    beta = np.linalg.inv(AT @ x) @ AT @ y\n",
        "    \n",
        "    return beta"
      ],
      "metadata": {
        "id": "LOH4gLe1RowF"
      },
      "execution_count": 72,
      "outputs": []
    },
    {
      "cell_type": "markdown",
      "source": [
        "Now we can write a `predict` function using `beta`:"
      ],
      "metadata": {
        "id": "O2khAokwThqd"
      }
    },
    {
      "cell_type": "code",
      "source": [
        "def predict(x, beta):\n",
        "    # Add a column of ones to x\n",
        "    ones = np.ones((x.shape[0], 1))\n",
        "    x = np.hstack((ones, x))\n",
        "    \n",
        "    # Calculate the predicted values y_hat using the formula y_hat = x beta\n",
        "    y_hat = x @ beta\n",
        "    \n",
        "    return y_hat"
      ],
      "metadata": {
        "id": "wsj3ARCXT2nt"
      },
      "execution_count": 73,
      "outputs": []
    },
    {
      "cell_type": "markdown",
      "source": [
        "Using our dataset we can fit the function to the data:"
      ],
      "metadata": {
        "id": "4uUgL52jUA9d"
      }
    },
    {
      "cell_type": "code",
      "source": [
        " # Fit the affine function to the data\n",
        "beta = fit_affine(x, y)"
      ],
      "metadata": {
        "id": "4F0R4MgjUGvU"
      },
      "execution_count": 74,
      "outputs": []
    },
    {
      "cell_type": "markdown",
      "source": [
        "Then we can predict the values of y from the input data:"
      ],
      "metadata": {
        "id": "pZdeQR0xUKaa"
      }
    },
    {
      "cell_type": "code",
      "source": [
        "y_hat = predict(x, beta)"
      ],
      "metadata": {
        "id": "ICzLDalqUQeB"
      },
      "execution_count": 75,
      "outputs": []
    },
    {
      "cell_type": "markdown",
      "source": [
        "Now let's plot the data points with the prediction:"
      ],
      "metadata": {
        "id": "nrTW7BdGUUHp"
      }
    },
    {
      "cell_type": "code",
      "source": [
        "import matplotlib.pyplot as plt\n",
        "\n",
        "# Plot the data points and the fitted affine function\n",
        "plt.scatter(x[:, 0], y)\n",
        "plt.plot(x[:, 0], y_hat, color=\"red\", label = \"prediction\")\n",
        "plt.legend()"
      ],
      "metadata": {
        "colab": {
          "base_uri": "https://localhost:8080/",
          "height": 282
        },
        "id": "xw1LvtRPUaE7",
        "outputId": "04b4fc52-ddd0-4628-ec75-3e2bd276a71f"
      },
      "execution_count": 81,
      "outputs": [
        {
          "output_type": "execute_result",
          "data": {
            "text/plain": [
              "[<matplotlib.lines.Line2D at 0x7fe391b64ac0>]"
            ]
          },
          "metadata": {},
          "execution_count": 81
        },
        {
          "output_type": "display_data",
          "data": {
            "text/plain": [
              "<Figure size 432x288 with 1 Axes>"
            ],
            "image/png": "[encoded data removed]"
          },
          "metadata": {
            "needs_background": "light"
          }
        }
      ]
    },
    {
      "cell_type": "markdown",
      "source": [
        "Lets compare the predicted function to the true function without noise: $y = 2x + 1$."
      ],
      "metadata": {
        "id": "cppF4FMcU_K8"
      }
    },
    {
      "cell_type": "code",
      "source": [
        "plt.scatter(x[:, 0], y)\n",
        "plt.plot(x[:, 0], y_hat, color=\"red\", label = \"prediction\")\n",
        "y_actual = 2 * x + 1\n",
        "plt.plot(x[:, 0], y_actual, color=\"green\", label = \"actual\")\n",
        "plt.legend()"
      ],
      "metadata": {
        "colab": {
          "base_uri": "https://localhost:8080/",
          "height": 282
        },
        "id": "2-SRY2S1VLjR",
        "outputId": "daeed7e7-cbe2-4d94-f7f9-5e0e755c77ea"
      },
      "execution_count": 87,
      "outputs": [
        {
          "output_type": "execute_result",
          "data": {
            "text/plain": [
              "<matplotlib.legend.Legend at 0x7fe39155b9a0>"
            ]
          },
          "metadata": {},
          "execution_count": 87
        },
        {
          "output_type": "display_data",
          "data": {
            "text/plain": [
              "<Figure size 432x288 with 1 Axes>"
            ],
            "image/png": "[encoded data removed]"
          },
          "metadata": {
            "needs_background": "light"
          }
        }
      ]
    },
    {
      "cell_type": "markdown",
      "source": [
        "The linear regression model successfully predicted the underlying trend in the data."
      ],
      "metadata": {
        "id": "tOb_Hv4NVUBV"
      }
    }
  ]
}