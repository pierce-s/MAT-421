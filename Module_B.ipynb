{
  "nbformat": 4,
  "nbformat_minor": 0,
  "metadata": {
    "colab": {
      "provenance": [],
      "authorship_tag": "ABX9TyMTzVcwqFZq0RX1VVnkEDxG",
      "include_colab_link": true
    },
    "kernelspec": {
      "name": "python3",
      "display_name": "Python 3"
    },
    "language_info": {
      "name": "python"
    }
  },
  "cells": [
    {
      "cell_type": "markdown",
      "metadata": {
        "id": "view-in-github",
        "colab_type": "text"
      },
      "source": [
        "<a href=\"https://colab.research.google.com/github/pierce-s/MAT-421/blob/main/Module_B.ipynb\" target=\"_parent\"><img src=\"https://colab.research.google.com/assets/colab-badge.svg\" alt=\"Open In Colab\"/></a>"
      ]
    },
    {
      "cell_type": "markdown",
      "source": [
        "Student: Pierce Sarmiento\n",
        "\n",
        "---"
      ],
      "metadata": {
        "id": "3XxRoTpratpc"
      }
    },
    {
      "cell_type": "markdown",
      "source": [
        "#**Module B** \n",
        "**17.1** Interpolation\n",
        "\n",
        "**17.2** Linear Interpolation\n",
        "\n",
        "**17.3** Cubic Spline Interpolation\n",
        "\n",
        "---\n",
        "\n"
      ],
      "metadata": {
        "id": "8n_CHQ3oX3Vj"
      }
    },
    {
      "cell_type": "markdown",
      "source": [
        "###**Section 17.1: Interpolation**"
      ],
      "metadata": {
        "id": "AxlT-ej5Zfqx"
      }
    },
    {
      "cell_type": "markdown",
      "source": [
        "*Summary:*\n",
        "\n",
        "Interpolation is a method of estimating the value of a function at an unknown point using known data points. It is also a way of estimating the function from which the known points were generated. While it gives us an estimation, it is not an exact method. The first two methods of interpolation that will be discussed here are linear interpolation and cubic spline interpolation.\n",
        "\n",
        "---\n",
        "*Implementation:*\n",
        "\n",
        "To illustrate the problem which interpolation helps solve, let's plot the data points from the textbook.\n",
        "\n"
      ],
      "metadata": {
        "id": "EMX-21nzLkUh"
      }
    },
    {
      "cell_type": "code",
      "source": [
        "import matplotlib.pyplot as plt\n",
        "import numpy as np\n",
        "\n",
        "# Data points given from Section 17.2\n",
        "x_values = [0,1,2]\n",
        "y_values = [1,3,2]\n",
        "\n",
        "# Plot the data points\n",
        "plt.plot(x_values, y_values, 'o', label='Known')\n",
        "plt.gca().set_title(\"Estimating Unknown Data Points\")\n",
        "plt.xlabel('x values')\n",
        "plt.ylabel('y values')\n",
        "\n",
        "# Set plot ticks to be in intervals of 0.5\n",
        "plt.xticks(np.arange(0, 3, 0.5))\n",
        "plt.yticks(np.arange(1, 3, 0.5))\n",
        "\n",
        "# Indicate that x = 1.5 is unknown\n",
        "plt.axvline(x=1.5, linestyle='--', color='gray', label='Unknown')\n",
        "plt.text(1.5, max(y_values), 'x = 1.5', rotation=90, va='top', ha='right')\n",
        "\n",
        "plt.legend()\n",
        "\n",
        "# Display the plot and save\n",
        "plt.show()\n",
        "#plt.savefig(\"interpolation_example.png\")\n"
      ],
      "metadata": {
        "colab": {
          "base_uri": "https://localhost:8080/",
          "height": 295
        },
        "id": "zEtWK2ieXiTp",
        "outputId": "a7eee683-113b-4a65-bafd-f9076f75247a"
      },
      "execution_count": 1,
      "outputs": [
        {
          "output_type": "display_data",
          "data": {
            "text/plain": [
              "<Figure size 432x288 with 1 Axes>"
            ],
            "image/png": "[encoded data removed]"
          },
          "metadata": {
            "needs_background": "light"
          }
        }
      ]
    },
    {
      "cell_type": "markdown",
      "source": [
        "Here we see the given data points in pairings of $x,y$ which are $(0,1)$, $(1,3)$, and $(2,2)$. If we wanted to know the exact value at $x = 1.5$, the data is unknown. Thus we can use interpolation to estimate the value.\n",
        "\n",
        "---"
      ],
      "metadata": {
        "id": "eAESPddfX9Vn"
      }
    },
    {
      "cell_type": "markdown",
      "source": [
        "###**Section 17.2: Linear Interpolation**"
      ],
      "metadata": {
        "id": "aTHPd_OwK6oh"
      }
    },
    {
      "cell_type": "markdown",
      "source": [
        "*Summary:*\n",
        "\n",
        "One such method of interpolation would be a linear approach. The assumption is that between each of our known data points, the function is linear. We can imagine a straight line drawn from point to point. If we know the equation of each of these lines we can then make an estimation for the value of the function at a given point between our data set.\n",
        "\n",
        "---\n",
        "\n",
        "*Implementation:*\n",
        "\n",
        "The ```scipy``` library provides a function called ```interp1d``` that we can use for implementing linear interpolation with our given dataset. However, since this was implemented already in the textbook, we can find the interpolation at $x$ using the following equation from the text:\n",
        "$\\hat{y}(x) = y_i + \\frac{(y_{i+1} - y_i)(x - x_i)}{(x_{i+1} - x_i)}$. So in order to estimate the value of the function at $x = 1.5$, we would need to compute the interval that contains $x = 1.5$ where each end point is in the dataset. We can see that $1 < 1.5 < 2$, but we can also write a function to determine this interval."
      ],
      "metadata": {
        "id": "h-ceaIvrL8Xx"
      }
    },
    {
      "cell_type": "code",
      "source": [
        "#Find the index of the interval \n",
        "def find_interval(arr, value):\n",
        "    for i in range(len(arr)):\n",
        "        if value <= arr[i]:\n",
        "            return i-1\n",
        "    return len(arr)"
      ],
      "metadata": {
        "id": "Ov0NoWgbbUxW"
      },
      "execution_count": 4,
      "outputs": []
    },
    {
      "cell_type": "markdown",
      "source": [
        "Next, we can write a function which implements the equation for $\\hat{y}(x)$:"
      ],
      "metadata": {
        "id": "9oBWbO29bwxk"
      }
    },
    {
      "cell_type": "code",
      "source": [
        "#linear interpolation at x using the provided formula.\n",
        "def linear_interpolation(x, x_values, y_values):\n",
        "    index = find_interval(x_values, x)\n",
        "    return y_values[index] + (y_values[index+1] - y_values[index]) * (x - x_values[index]) / (x_values[index+1] - x_values[index])"
      ],
      "metadata": {
        "id": "rIF5cfr5cNJS"
      },
      "execution_count": 3,
      "outputs": []
    },
    {
      "cell_type": "markdown",
      "source": [
        "Now we just need to use the provided dataset as inputs and plot."
      ],
      "metadata": {
        "id": "j2TBxrYjcbK3"
      }
    },
    {
      "cell_type": "code",
      "source": [
        "# Data points\n",
        "x_values = [0,1,2]\n",
        "y_values = [1,3,2]\n",
        "\n",
        "# Interpolation point\n",
        "x = 1.5\n",
        "\n",
        "# Interpolate the data\n",
        "y_interp = linear_interpolation(x, x_values, y_values)\n",
        "\n",
        "# Plot the data points and the interpolated point\n",
        "plt.plot(x_values, y_values, 'o', x, y_interp, 'x')\n",
        "\n",
        "#Title\n",
        "plt.gca().set_title(\"Linear interpolation at x = 1.5\")\n",
        "\n",
        "# Set plot ticks to be in intervals of 0.5\n",
        "plt.xticks(np.arange(0, 3, 0.5))\n",
        "plt.yticks(np.arange(1, 3, 0.5))\n",
        "\n",
        "plt.legend(['data', 'interpolated'], loc='best')\n",
        "plt.show()\n",
        "\n",
        "# Print the interpolated value\n",
        "print(\"The interpolated y-value at x =\", x, \"is\", y_interp)\n",
        "\n",
        "\n",
        "\n",
        "\n"
      ],
      "metadata": {
        "colab": {
          "base_uri": "https://localhost:8080/",
          "height": 298
        },
        "id": "XqJS2IncchaB",
        "outputId": "35cf8666-2d0b-4a92-cead-27aa232487a8"
      },
      "execution_count": 25,
      "outputs": [
        {
          "output_type": "display_data",
          "data": {
            "text/plain": [
              "<Figure size 432x288 with 1 Axes>"
            ],
            "image/png": "[encoded data removed]"
          },
          "metadata": {
            "needs_background": "light"
          }
        },
        {
          "output_type": "stream",
          "name": "stdout",
          "text": [
            "The interpolated y-value at x = 1.5 is 2.5\n"
          ]
        }
      ]
    },
    {
      "cell_type": "markdown",
      "source": [
        "---"
      ],
      "metadata": {
        "id": "NeciAeLPeYD_"
      }
    },
    {
      "cell_type": "markdown",
      "source": [
        "###**Section 17.3: Cubic Spline Interpolation**\n"
      ],
      "metadata": {
        "id": "S0TkmtmpK65v"
      }
    },
    {
      "cell_type": "markdown",
      "source": [
        "*Summary:*\n",
        "\n",
        "The linear method that we implemented in the last section assumes that the data is linear. We can instead use cubic functions between intervals which assumes that the interpolated function is a smooth function. In other words, the first and second derivative of the interpolated function are continous. This method is called cubic spline interpolation.\n",
        "\n",
        "The number of cubic functions used are $n - 1$ where $n$ is the number of points from the given dataset. This means that the cubic spline interpolation for our dataset will include two cubic functions. \n",
        "\n",
        "---\n",
        "\n",
        "*Implementation:*\n",
        "\n",
        "The textbook uses the ```CubicSpline``` function from the ```scipy``` library to plot the cubic spline interpolation of the data set over $0 \\leq x \\leq 2$. However, there was a constraint which makes the first and second derivatives zero at the endpoints. Let's implement the cubic spline interpolation with different constraints to illustrate the difference between the function that is generated. First, we'll include the plot where there are no continuity constraints on the first and second derivative. Then, we'll include a plot which only continuity constraints on the first derivative. Lastly, we'll compare the two plots to the one shown in the textbook, which has continuity constraints on both the first and second derivative. All of these constraints, or lack thereof, are at the endpoints."
      ],
      "metadata": {
        "id": "44nCqMBmL9Dx"
      }
    },
    {
      "cell_type": "code",
      "source": [
        "import numpy as np\n",
        "import matplotlib.pyplot as plt\n",
        "from scipy.interpolate import CubicSpline\n",
        "\n",
        "# Data points\n",
        "x_values = [0,1,2]\n",
        "y_values = [1,3,2]\n",
        "\n",
        "# Interpolation points\n",
        "x_interp = np.linspace(0, 2, 100)\n",
        "\n",
        "# Create a cubic spline with no continuity constraints\n",
        "spline_no_constraints = CubicSpline(x_values, y_values, bc_type='not-a-knot')\n",
        "\n",
        "# Create a cubic spline with continuity of the first derivative\n",
        "spline_first_derivative = CubicSpline(x_values, y_values, bc_type='clamped')\n",
        "\n",
        "# Create a cubic spline with continuity of the first and second derivatives\n",
        "spline_first_second_derivative = CubicSpline(x_values, y_values, bc_type='natural')\n",
        "\n",
        "# Interpolate the data\n",
        "y_interp_no_constraints = spline_no_constraints(x_interp)\n",
        "y_interp_first_derivative = spline_first_derivative(x_interp)\n",
        "y_interp_first_second_derivative = spline_first_second_derivative(x_interp)\n",
        "\n",
        "# Plot\n",
        "plt.plot(x_values, y_values, 'o', label='Data points')\n",
        "plt.plot(x_interp, y_interp_no_constraints, label='No continuity constraints')\n",
        "plt.plot(x_interp, y_interp_first_derivative, label='Continuity of the first derivative')\n",
        "plt.plot(x_interp, y_interp_first_second_derivative, label='Continuity of the first and second derivatives')\n",
        "\n",
        "#Title\n",
        "plt.gca().set_title(\"Cubic spline interpolation\")\n",
        "\n",
        "# Set plot ticks to be in intervals of 0.5\n",
        "plt.xticks(np.arange(0, 3, 0.5))\n",
        "plt.yticks(np.arange(1, 3, 0.5))\n",
        "\n",
        "plt.legend(loc='best')\n",
        "plt.show()"
      ],
      "metadata": {
        "colab": {
          "base_uri": "https://localhost:8080/",
          "height": 281
        },
        "id": "s0eeum47kp4L",
        "outputId": "a56af6fe-8bad-4428-ea84-1104fa2f1733"
      },
      "execution_count": 26,
      "outputs": [
        {
          "output_type": "display_data",
          "data": {
            "text/plain": [
              "<Figure size 432x288 with 1 Axes>"
            ],
            "image/png": "[encoded data removed]"
          },
          "metadata": {
            "needs_background": "light"
          }
        }
      ]
    },
    {
      "cell_type": "markdown",
      "source": [
        "Here we see a similar result between no continunity constraints and continuity fo the first and second derivatives. However, since the first and second derivatives are zero at the end points with constraints, the smooth curve will be nearly a straight line near the end points. We can illustrate this by finding derivatives using the ```derivative``` method that belongs to the ```CubicSpline``` class in the ```scipy``` library. This will allow us plot lines at the end points."
      ],
      "metadata": {
        "id": "0WpqwJ1Fk3_t"
      }
    },
    {
      "cell_type": "code",
      "source": [
        "# Define the data points\n",
        "x = [0, 1, 2]\n",
        "y = [1, 3, 2]\n",
        "\n",
        "# Create a cubic spline with natural constraints\n",
        "cs = CubicSpline(x, y, bc_type='natural')\n",
        "\n",
        "# Generate x values for plotting\n",
        "x_interp = np.linspace(0, 2, 100)\n",
        "\n",
        "# Calculate the y values for the cubic spline\n",
        "y_interp = cs(x_interp)\n",
        "\n",
        "# Get the first derivative of the spline at the first endpoint\n",
        "m1 = cs.derivative(1)(x[0])\n",
        "b1 = y[0] - m1 * x[0]\n",
        "y1 = m1 * x_interp + b1\n",
        "\n",
        "# Get the first derivative of the spline at the second endpoint\n",
        "m2 = cs.derivative(1)(x[-1])\n",
        "b2 = y[-1] - m2 * x[-1]\n",
        "y2 = m2 * x_interp + b2\n",
        "\n",
        "# Plot the data points and the cubic spline\n",
        "plt.plot(x, y, 'o')\n",
        "plt.plot(x_interp, y_interp, label='Cubic Spline (natural)', color = 'red')\n",
        "plt.plot(x_interp, y1, label='First endpoint', color = 'blue')\n",
        "plt.plot(x_interp, y2, label='Second endpoint', color = 'green')\n",
        "\n",
        "# Add grid and labels\n",
        "plt.xlabel('x')\n",
        "plt.ylabel('y')\n",
        "\n",
        "# Add a title\n",
        "plt.title(\"Cubic Spline interpolation with straight lines at the endpoints\")\n",
        "\n",
        "# Set plot ticks to be in intervals of 0.5\n",
        "plt.xticks(np.arange(0, 3, 0.5))\n",
        "plt.yticks(np.arange(1, 3, 0.5))\n",
        "\n",
        "# Show the plot\n",
        "plt.legend()\n",
        "plt.show()"
      ],
      "metadata": {
        "id": "sX-eDiP8pkul"
      },
      "execution_count": null,
      "outputs": []
    },
    {
      "cell_type": "markdown",
      "source": [
        "Notice that the cubic spline interpolation function approaches a straight line near the end points. If we change ```bc_type = 'natural'``` to ```bc_type = 'not-a-knot'``` we run the same script for the interpolation function without constraints."
      ],
      "metadata": {
        "id": "OMUxYDjrqkY-"
      }
    },
    {
      "cell_type": "code",
      "source": [
        "# Define the data points\n",
        "x = [0, 1, 2]\n",
        "y = [1, 3, 2]\n",
        "\n",
        "# Create a cubic spline with natural constraints\n",
        "cs = CubicSpline(x, y, bc_type='not-a-knot')\n",
        "\n",
        "# Generate x values for plotting\n",
        "x_interp = np.linspace(0, 2, 100)\n",
        "\n",
        "# Calculate the y values for the cubic spline\n",
        "y_interp = cs(x_interp)\n",
        "\n",
        "# Get the first derivative of the spline at the first endpoint\n",
        "m1 = cs.derivative(1)(x[0])\n",
        "b1 = y[0] - m1 * x[0]\n",
        "y1 = m1 * x_interp + b1\n",
        "\n",
        "# Get the first derivative of the spline at the second endpoint\n",
        "m2 = cs.derivative(1)(x[-1])\n",
        "b2 = y[-1] - m2 * x[-1]\n",
        "y2 = m2 * x_interp + b2\n",
        "\n",
        "# Plot the data points and the cubic spline\n",
        "plt.plot(x, y, 'o')\n",
        "plt.plot(x_interp, y_interp, label='Cubic Spline (not-a-knot)', color = 'orange')\n",
        "plt.plot(x_interp, y1, label='First endpoint', color = 'blue')\n",
        "plt.plot(x_interp, y2, label='Second endpoint', color = 'green')\n",
        "\n",
        "# Add grid and labels\n",
        "plt.xlabel('x')\n",
        "plt.ylabel('y')\n",
        "\n",
        "# Add a title\n",
        "plt.title(\"Cubic Spline interpolation with straight lines at the endpoints\")\n",
        "\n",
        "# Set plot ticks to be in intervals of 0.5\n",
        "plt.xticks(np.arange(0, 3, 0.5))\n",
        "plt.yticks(np.arange(1, 3, 0.5))\n",
        "\n",
        "# Show the plot\n",
        "plt.legend()\n",
        "plt.show()"
      ],
      "metadata": {
        "id": "M-P_crXqq3-2"
      },
      "execution_count": null,
      "outputs": []
    },
    {
      "cell_type": "markdown",
      "source": [
        "By drawing these straight lines at the end points, the difference between the two ```bc_type``` parameters is more apparent.\n",
        "\n",
        "Lastly, we can compare the estimation of $x = 1.5$ across the different constraints.\n"
      ],
      "metadata": {
        "id": "PhmIXycyry0H"
      }
    },
    {
      "cell_type": "code",
      "source": [
        "# Find the interpolated value for x = 1.5\n",
        "x = 1.5\n",
        "\n",
        "# Interpolate the data with no continuity constraints\n",
        "y_interp_no_constraints = spline_no_constraints(x)\n",
        "\n",
        "# Interpolate the data with continuity of the first derivative\n",
        "y_interp_first_derivative = spline_first_derivative(x)\n",
        "\n",
        "# Interpolate the data with continuity of the first and second derivatives\n",
        "y_interp_first_second_derivative = spline_first_second_derivative(x)\n",
        "\n",
        "# Print the interpolated values\n",
        "print(\"Interpolated value with no continuity constraints:\", y_interp_no_constraints)\n",
        "print(\"Interpolated value with continuity of the first derivative:\", y_interp_first_derivative)\n",
        "print(\"Interpolated value with continuity of the first and second derivatives:\", y_interp_first_second_derivative)\n",
        "\n"
      ],
      "metadata": {
        "colab": {
          "base_uri": "https://localhost:8080/"
        },
        "id": "TIPxZKaHtOPq",
        "outputId": "c5415cdd-a4ca-4b0d-fda1-49614472f434"
      },
      "execution_count": 27,
      "outputs": [
        {
          "output_type": "stream",
          "name": "stdout",
          "text": [
            "Interpolated value with no continuity constraints: 2.875\n",
            "Interpolated value with continuity of the first derivative: 2.59375\n",
            "Interpolated value with continuity of the first and second derivatives: 2.78125\n"
          ]
        }
      ]
    }
  ]
}